{
 "cells": [
  {
   "cell_type": "code",
   "execution_count": 2,
   "metadata": {
    "ExecuteTime": {
     "end_time": "2021-04-15T19:50:52.722552Z",
     "start_time": "2021-04-15T19:50:52.720619Z"
    }
   },
   "outputs": [],
   "source": [
    "import warnings\n",
    "warnings.filterwarnings('ignore')"
   ]
  },
  {
   "cell_type": "code",
   "execution_count": 3,
   "metadata": {
    "ExecuteTime": {
     "end_time": "2021-04-15T19:50:53.369792Z",
     "start_time": "2021-04-15T19:50:52.723812Z"
    }
   },
   "outputs": [],
   "source": [
    "%matplotlib inline\n",
    "from pathlib import Path\n",
    "\n",
    "import numpy as np\n",
    "import pandas as pd\n",
    "from numpy.linalg import inv\n",
    "\n",
    "\n",
    "idx = pd.IndexSlice\n",
    "import matplotlib.pyplot as plt\n",
    "import seaborn as sns"
   ]
  },
  {
   "cell_type": "markdown",
   "metadata": {},
   "source": [
    "## Data Ingestion"
   ]
  },
  {
   "cell_type": "markdown",
   "metadata": {},
   "source": [
    "Note that some of this data was created in a different project: Gradient Booster Model for Factor Prediction"
   ]
  },
  {
   "cell_type": "code",
   "execution_count": 4,
   "metadata": {},
   "outputs": [],
   "source": [
    "prices = pd.read_hdf('data/prices', 'prices') # for later ingesting"
   ]
  },
  {
   "cell_type": "code",
   "execution_count": 5,
   "metadata": {},
   "outputs": [
    {
     "name": "stdout",
     "output_type": "stream",
     "text": [
      "<class 'pandas.core.frame.DataFrame'>\n",
      "MultiIndex: 3025636 entries, ('AMC', Timestamp('2013-12-18 00:00:00')) to ('HAYN', Timestamp('2021-12-23 00:00:00'))\n",
      "Data columns (total 5 columns):\n",
      " #   Column  Dtype  \n",
      "---  ------  -----  \n",
      " 0   high    float64\n",
      " 1   close   float64\n",
      " 2   low     float64\n",
      " 3   open    float64\n",
      " 4   volume  float64\n",
      "dtypes: float64(5)\n",
      "memory usage: 127.2+ MB\n"
     ]
    }
   ],
   "source": [
    "prices.info()"
   ]
  },
  {
   "cell_type": "markdown",
   "metadata": {},
   "source": [
    "## Creating A 'Simple' Kelly Allocation Off Historical Data"
   ]
  },
  {
   "cell_type": "code",
   "execution_count": 6,
   "metadata": {},
   "outputs": [],
   "source": [
    "close = prices['close'].unstack('symbol')"
   ]
  },
  {
   "cell_type": "markdown",
   "metadata": {},
   "source": [
    "Create the monthly returns (as a percent change):"
   ]
  },
  {
   "cell_type": "code",
   "execution_count": 7,
   "metadata": {
    "ExecuteTime": {
     "end_time": "2021-04-15T19:51:05.185223Z",
     "start_time": "2021-04-15T19:51:05.138252Z"
    }
   },
   "outputs": [
    {
     "name": "stdout",
     "output_type": "stream",
     "text": [
      "<class 'pandas.core.frame.DataFrame'>\n",
      "DatetimeIndex: 95 entries, 2014-01-31 to 2021-11-30\n",
      "Freq: M\n",
      "Columns: 1000 entries, AMC to HAYN\n",
      "dtypes: float64(1000)\n",
      "memory usage: 742.9 KB\n"
     ]
    }
   ],
   "source": [
    "monthly_returns = close.loc['2014':'2021-11-30'].resample('M').last().pct_change()\n",
    "stocks = monthly_returns.columns\n",
    "monthly_returns.info()"
   ]
  },
  {
   "cell_type": "markdown",
   "metadata": {},
   "source": [
    "Take a 10 ticker sample to simplify the visualizations for this example. Limit the timeframe as well"
   ]
  },
  {
   "cell_type": "code",
   "execution_count": 8,
   "metadata": {},
   "outputs": [],
   "source": [
    "sample = monthly_returns.sample(n=10,axis=1)\n",
    "sampleindex = sample.columns"
   ]
  },
  {
   "cell_type": "code",
   "execution_count": 9,
   "metadata": {},
   "outputs": [],
   "source": [
    "sample = sample.loc['2015':]"
   ]
  },
  {
   "cell_type": "code",
   "execution_count": 10,
   "metadata": {},
   "outputs": [
    {
     "name": "stdout",
     "output_type": "stream",
     "text": [
      "<class 'pandas.core.frame.DataFrame'>\n",
      "DatetimeIndex: 83 entries, 2015-01-31 to 2021-11-30\n",
      "Freq: M\n",
      "Data columns (total 10 columns):\n",
      " #   Column  Non-Null Count  Dtype  \n",
      "---  ------  --------------  -----  \n",
      " 0   HIFS    83 non-null     float64\n",
      " 1   SRDX    83 non-null     float64\n",
      " 2   DORM    83 non-null     float64\n",
      " 3   CYTK    83 non-null     float64\n",
      " 4   VCEL    83 non-null     float64\n",
      " 5   PBH     83 non-null     float64\n",
      " 6   LIND    83 non-null     float64\n",
      " 7   WETF    83 non-null     float64\n",
      " 8   FC      83 non-null     float64\n",
      " 9   JJSF    83 non-null     float64\n",
      "dtypes: float64(10)\n",
      "memory usage: 7.1 KB\n"
     ]
    }
   ],
   "source": [
    "sample.info() # Make sure data is non-null"
   ]
  },
  {
   "cell_type": "code",
   "execution_count": 11,
   "metadata": {},
   "outputs": [
    {
     "data": {
      "text/html": [
       "<div>\n",
       "<style scoped>\n",
       "    .dataframe tbody tr th:only-of-type {\n",
       "        vertical-align: middle;\n",
       "    }\n",
       "\n",
       "    .dataframe tbody tr th {\n",
       "        vertical-align: top;\n",
       "    }\n",
       "\n",
       "    .dataframe thead th {\n",
       "        text-align: right;\n",
       "    }\n",
       "</style>\n",
       "<table border=\"1\" class=\"dataframe\">\n",
       "  <thead>\n",
       "    <tr style=\"text-align: right;\">\n",
       "      <th>symbol</th>\n",
       "      <th>HIFS</th>\n",
       "      <th>SRDX</th>\n",
       "      <th>DORM</th>\n",
       "      <th>CYTK</th>\n",
       "      <th>VCEL</th>\n",
       "      <th>PBH</th>\n",
       "      <th>LIND</th>\n",
       "      <th>WETF</th>\n",
       "      <th>FC</th>\n",
       "      <th>JJSF</th>\n",
       "    </tr>\n",
       "    <tr>\n",
       "      <th>date</th>\n",
       "      <th></th>\n",
       "      <th></th>\n",
       "      <th></th>\n",
       "      <th></th>\n",
       "      <th></th>\n",
       "      <th></th>\n",
       "      <th></th>\n",
       "      <th></th>\n",
       "      <th></th>\n",
       "      <th></th>\n",
       "    </tr>\n",
       "  </thead>\n",
       "  <tbody>\n",
       "    <tr>\n",
       "      <th>2015-01-31</th>\n",
       "      <td>0.011378</td>\n",
       "      <td>0.037104</td>\n",
       "      <td>-0.052621</td>\n",
       "      <td>-0.114856</td>\n",
       "      <td>0.036184</td>\n",
       "      <td>-0.013249</td>\n",
       "      <td>0.009137</td>\n",
       "      <td>0.111324</td>\n",
       "      <td>-0.066632</td>\n",
       "      <td>-0.097913</td>\n",
       "    </tr>\n",
       "    <tr>\n",
       "      <th>2015-02-28</th>\n",
       "      <td>0.094659</td>\n",
       "      <td>0.049302</td>\n",
       "      <td>-0.035425</td>\n",
       "      <td>0.087447</td>\n",
       "      <td>0.142857</td>\n",
       "      <td>0.124927</td>\n",
       "      <td>-0.005030</td>\n",
       "      <td>0.072905</td>\n",
       "      <td>-0.009408</td>\n",
       "      <td>0.031288</td>\n",
       "    </tr>\n",
       "    <tr>\n",
       "      <th>2015-03-31</th>\n",
       "      <td>0.027717</td>\n",
       "      <td>0.082328</td>\n",
       "      <td>0.127862</td>\n",
       "      <td>-0.120623</td>\n",
       "      <td>0.027778</td>\n",
       "      <td>0.112870</td>\n",
       "      <td>0.022245</td>\n",
       "      <td>0.148208</td>\n",
       "      <td>0.075978</td>\n",
       "      <td>0.054452</td>\n",
       "    </tr>\n",
       "    <tr>\n",
       "      <th>2015-04-30</th>\n",
       "      <td>0.119192</td>\n",
       "      <td>-0.031118</td>\n",
       "      <td>-0.058693</td>\n",
       "      <td>-0.072271</td>\n",
       "      <td>-0.105405</td>\n",
       "      <td>-0.084868</td>\n",
       "      <td>0.096934</td>\n",
       "      <td>-0.112768</td>\n",
       "      <td>-0.032191</td>\n",
       "      <td>-0.022212</td>\n",
       "    </tr>\n",
       "    <tr>\n",
       "      <th>2015-05-31</th>\n",
       "      <td>0.010830</td>\n",
       "      <td>-0.021412</td>\n",
       "      <td>-0.003630</td>\n",
       "      <td>0.012719</td>\n",
       "      <td>-0.060423</td>\n",
       "      <td>0.118981</td>\n",
       "      <td>-0.033363</td>\n",
       "      <td>0.121849</td>\n",
       "      <td>0.072425</td>\n",
       "      <td>0.033260</td>\n",
       "    </tr>\n",
       "    <tr>\n",
       "      <th>...</th>\n",
       "      <td>...</td>\n",
       "      <td>...</td>\n",
       "      <td>...</td>\n",
       "      <td>...</td>\n",
       "      <td>...</td>\n",
       "      <td>...</td>\n",
       "      <td>...</td>\n",
       "      <td>...</td>\n",
       "      <td>...</td>\n",
       "      <td>...</td>\n",
       "    </tr>\n",
       "    <tr>\n",
       "      <th>2021-07-31</th>\n",
       "      <td>0.029260</td>\n",
       "      <td>0.015853</td>\n",
       "      <td>-0.024308</td>\n",
       "      <td>0.499747</td>\n",
       "      <td>0.008381</td>\n",
       "      <td>0.008637</td>\n",
       "      <td>-0.144909</td>\n",
       "      <td>-0.003226</td>\n",
       "      <td>0.131066</td>\n",
       "      <td>-0.057508</td>\n",
       "    </tr>\n",
       "    <tr>\n",
       "      <th>2021-08-31</th>\n",
       "      <td>0.085284</td>\n",
       "      <td>0.090002</td>\n",
       "      <td>-0.072071</td>\n",
       "      <td>0.110849</td>\n",
       "      <td>0.023234</td>\n",
       "      <td>0.092103</td>\n",
       "      <td>0.074507</td>\n",
       "      <td>0.021036</td>\n",
       "      <td>0.188030</td>\n",
       "      <td>-0.003772</td>\n",
       "    </tr>\n",
       "    <tr>\n",
       "      <th>2021-09-30</th>\n",
       "      <td>0.037596</td>\n",
       "      <td>-0.074413</td>\n",
       "      <td>0.008630</td>\n",
       "      <td>0.084016</td>\n",
       "      <td>-0.099132</td>\n",
       "      <td>-0.022304</td>\n",
       "      <td>-0.008158</td>\n",
       "      <td>-0.101426</td>\n",
       "      <td>-0.061652</td>\n",
       "      <td>-0.066805</td>\n",
       "    </tr>\n",
       "    <tr>\n",
       "      <th>2021-10-31</th>\n",
       "      <td>0.072884</td>\n",
       "      <td>0.001079</td>\n",
       "      <td>0.102567</td>\n",
       "      <td>-0.023223</td>\n",
       "      <td>-0.056967</td>\n",
       "      <td>0.069150</td>\n",
       "      <td>0.024674</td>\n",
       "      <td>0.126984</td>\n",
       "      <td>0.035793</td>\n",
       "      <td>-0.034485</td>\n",
       "    </tr>\n",
       "    <tr>\n",
       "      <th>2021-11-30</th>\n",
       "      <td>0.081276</td>\n",
       "      <td>-0.210744</td>\n",
       "      <td>0.063231</td>\n",
       "      <td>0.126898</td>\n",
       "      <td>-0.191439</td>\n",
       "      <td>-0.067345</td>\n",
       "      <td>-0.062876</td>\n",
       "      <td>-0.039124</td>\n",
       "      <td>0.040947</td>\n",
       "      <td>-0.074348</td>\n",
       "    </tr>\n",
       "  </tbody>\n",
       "</table>\n",
       "<p>83 rows × 10 columns</p>\n",
       "</div>"
      ],
      "text/plain": [
       "symbol          HIFS      SRDX      DORM      CYTK      VCEL       PBH  \\\n",
       "date                                                                     \n",
       "2015-01-31  0.011378  0.037104 -0.052621 -0.114856  0.036184 -0.013249   \n",
       "2015-02-28  0.094659  0.049302 -0.035425  0.087447  0.142857  0.124927   \n",
       "2015-03-31  0.027717  0.082328  0.127862 -0.120623  0.027778  0.112870   \n",
       "2015-04-30  0.119192 -0.031118 -0.058693 -0.072271 -0.105405 -0.084868   \n",
       "2015-05-31  0.010830 -0.021412 -0.003630  0.012719 -0.060423  0.118981   \n",
       "...              ...       ...       ...       ...       ...       ...   \n",
       "2021-07-31  0.029260  0.015853 -0.024308  0.499747  0.008381  0.008637   \n",
       "2021-08-31  0.085284  0.090002 -0.072071  0.110849  0.023234  0.092103   \n",
       "2021-09-30  0.037596 -0.074413  0.008630  0.084016 -0.099132 -0.022304   \n",
       "2021-10-31  0.072884  0.001079  0.102567 -0.023223 -0.056967  0.069150   \n",
       "2021-11-30  0.081276 -0.210744  0.063231  0.126898 -0.191439 -0.067345   \n",
       "\n",
       "symbol          LIND      WETF        FC      JJSF  \n",
       "date                                                \n",
       "2015-01-31  0.009137  0.111324 -0.066632 -0.097913  \n",
       "2015-02-28 -0.005030  0.072905 -0.009408  0.031288  \n",
       "2015-03-31  0.022245  0.148208  0.075978  0.054452  \n",
       "2015-04-30  0.096934 -0.112768 -0.032191 -0.022212  \n",
       "2015-05-31 -0.033363  0.121849  0.072425  0.033260  \n",
       "...              ...       ...       ...       ...  \n",
       "2021-07-31 -0.144909 -0.003226  0.131066 -0.057508  \n",
       "2021-08-31  0.074507  0.021036  0.188030 -0.003772  \n",
       "2021-09-30 -0.008158 -0.101426 -0.061652 -0.066805  \n",
       "2021-10-31  0.024674  0.126984  0.035793 -0.034485  \n",
       "2021-11-30 -0.062876 -0.039124  0.040947 -0.074348  \n",
       "\n",
       "[83 rows x 10 columns]"
      ]
     },
     "execution_count": 11,
     "metadata": {},
     "output_type": "execute_result"
    }
   ],
   "source": [
    "sample"
   ]
  },
  {
   "cell_type": "markdown",
   "metadata": {},
   "source": [
    "Create variance:"
   ]
  },
  {
   "cell_type": "code",
   "execution_count": 12,
   "metadata": {},
   "outputs": [],
   "source": [
    "SampleVar = sample.var()"
   ]
  },
  {
   "cell_type": "markdown",
   "metadata": {},
   "source": [
    "## Applying Kelly Formula with continuous approximation:"
   ]
  },
  {
   "cell_type": "markdown",
   "metadata": {},
   "source": [
    "For a variable where $E(X) = m$ and $Var(X) = s^2$. With initial capital $V_{0}$ betting fraction $f$, and return per unit of X, the result is:"
   ]
  },
  {
   "cell_type": "markdown",
   "metadata": {},
   "source": [
    "$ V(f) = V_{0}(1 + (1-f)r+fX)= V_{0} (1+r+f(X-r))$, where r is the rate of retrun on the remaining capital. Then:"
   ]
  },
  {
   "cell_type": "markdown",
   "metadata": {},
   "source": [
    "$ g(f) = E(G(f)) = E(ln(V(f)/V_{0}))= E (ln(1+r+f(X-r))) = 0.5ln(1+r+f(m-r+s))+0.5ln(1+r+f(m-r-s))$"
   ]
  },
  {
   "cell_type": "markdown",
   "metadata": {},
   "source": [
    "Now subdivide the time interval into n equal independent steps, keeping the same drift and the same total variance. So $m$, $s^2$, and $r$ are replaced by $m/n$, $s^2/n$ and $r/n$. We have $n$ independent $X_{i} , i=1,...,n$ where the probability of both negative and positive outcomes about the mean is even, then:"
   ]
  },
  {
   "cell_type": "markdown",
   "metadata": {},
   "source": [
    "$V_{n}(f)/V_{0} = \\prod\\limits_{i=1}^{n} (1+(1-f)r+fX_{i})$ and taking $E(log())$ of both sides will give $g(f)$. Expanding this to a power series will lead to a simplification (when bounded to infinity) of: $g_{\\infty}(f) \\equiv r + f(m-r) - s^2 f^2/2$"
   ]
  },
  {
   "cell_type": "markdown",
   "metadata": {},
   "source": [
    "Plugging in the computed mean and variance for the ticker BHLB:"
   ]
  },
  {
   "cell_type": "code",
   "execution_count": 14,
   "metadata": {},
   "outputs": [],
   "source": [
    "# Change to ticker in sample\n",
    "m = sample['HIFS'].mean()\n",
    "v = SampleVar['HIFS']"
   ]
  },
  {
   "cell_type": "code",
   "execution_count": 15,
   "metadata": {},
   "outputs": [
    {
     "data": {
      "image/png": "[encoded data removed]",
      "text/plain": [
       "<Figure size 540x252 with 1 Axes>"
      ]
     },
     "metadata": {
      "needs_background": "light"
     },
     "output_type": "display_data"
    }
   ],
   "source": [
    "# 100 linearly spaced numbers\n",
    "x = np.linspace(-0.5,1.25,100)\n",
    "\n",
    "plt.rcParams[\"figure.figsize\"] = [7.50, 3.50]\n",
    "plt.rcParams[\"figure.autolayout\"] = True\n",
    "\n",
    "r=0 # set riskfree to 0, not very important for this example\n",
    "\n",
    "def g(x):\n",
    "    return r + x*(m-r) - (v)*(x**2)/2\n",
    "\n",
    "plt.plot(x, g(x), color='red')\n",
    "\n",
    "plt.show()\n"
   ]
  },
  {
   "cell_type": "code",
   "execution_count": 16,
   "metadata": {},
   "outputs": [
    {
     "data": {
      "text/plain": [
       "4.274639443733296"
      ]
     },
     "execution_count": 16,
     "metadata": {},
     "output_type": "execute_result"
    }
   ],
   "source": [
    "m/v"
   ]
  },
  {
   "cell_type": "markdown",
   "metadata": {},
   "source": [
    "Here we can see the formula is a parabola, meaning maximizing the growth rate is a very simple solution, just taking the derivative and finding the maximum, which very simply becomes $f = mean/variance$, which is ~ 0.52 in this case.  "
   ]
  },
  {
   "cell_type": "markdown",
   "metadata": {},
   "source": [
    "## Kelly for a Portfolio of Securities"
   ]
  },
  {
   "cell_type": "markdown",
   "metadata": {},
   "source": [
    "Now moving into a balanced portfolio fraction $f_{0}$ and n risky assets with portfolio fraction $f _{1} ,...,f_{n}$, with the same descriptive varaibles as before.  If $\\Sigma=(s_{i,j}$) with $i , j  = 1, 2,..., n$ is the variance-covariance matrix and $M = (m_{1},m_{2},...,m_{n})^T$ is the row vector of the expected returns for the n assets."
   ]
  },
  {
   "cell_type": "markdown",
   "metadata": {},
   "source": [
    "The expression of the prortfolio's capital after one time step:\n",
    "  $ f_{0}r+\\sum\\limits_{i=1}^{n} f_{i} m_{i}$ where they are the fractions and returns on the ith asset. In matrix form it looks like: $r + F^T(M-R)$ where R is the column vector $(r,r,...,r)^T$ of length $n$. And we also have $s^2=F^TCF$. We have arrived at a similar quadratic maximization problem."
   ]
  },
  {
   "cell_type": "markdown",
   "metadata": {},
   "source": [
    "Interestingly, using this and solving the simultaneous equations of $\\nabla g_{\\infty}/\\nabla f_{i} = 0, i = 1,...,n$ you get the solution of $F^* = \\Sigma^{-1}[M-R]$. Which, if all securities are uncorrelated, $\\Sigma$ will be diagonal and we will have the quadratic maximization solution for all the securities of $f_{i} = (m_{i}-r)/s_{i}^2$ (which if risk-free rate is zero will just be mean/variance)."
   ]
  },
  {
   "cell_type": "code",
   "execution_count": 17,
   "metadata": {},
   "outputs": [],
   "source": [
    "# Using the sample variance from before\n",
    "SampleMean = sample.mean()\n",
    "UnCorrK = SampleMean/SampleVar"
   ]
  },
  {
   "cell_type": "code",
   "execution_count": 18,
   "metadata": {},
   "outputs": [
    {
     "name": "stdout",
     "output_type": "stream",
     "text": [
      "symbol\n",
      "HIFS    4.274639\n",
      "SRDX    1.153411\n",
      "DORM    2.110328\n",
      "CYTK    1.197098\n",
      "VCEL    0.741051\n",
      "PBH     1.507987\n",
      "LIND    0.725447\n",
      "WETF   -0.112885\n",
      "FC      1.320689\n",
      "JJSF    1.315678\n",
      "dtype: float64\n"
     ]
    }
   ],
   "source": [
    "print(UnCorrK)"
   ]
  },
  {
   "cell_type": "markdown",
   "metadata": {},
   "source": [
    "Note that the Kelly solution here provides negative solutions as well as ones that are greater than 1 (or less than -1). Negative would mean you would be shorting those positions, and greater than 1 would mean taking leverage on the positions. "
   ]
  },
  {
   "cell_type": "markdown",
   "metadata": {},
   "source": [
    "## Kelly with Correlation"
   ]
  },
  {
   "cell_type": "markdown",
   "metadata": {},
   "source": [
    "Recall the unconstraied correlated solution (with 0 risk free rate) is given by: $F = \\hat{\\Sigma} ^{-1} \\hat{m}$ where $\\hat{\\Sigma}$ and $\\hat{r}$ are the estimations of variance-covariance matrix and returns. Note that $\\hat{\\Sigma} ^{-1}$ is the inverse of the cov-var matrix, which is known as the precision matrix or the concentration matrix. This introduces the contsratin that ${\\Sigma} ^{-1}$ must exist, which means the determinant of ${\\Sigma}$ must not be 0. "
   ]
  },
  {
   "cell_type": "markdown",
   "metadata": {},
   "source": [
    "So we have to compute the var-cov matrix:"
   ]
  },
  {
   "cell_type": "code",
   "execution_count": 19,
   "metadata": {
    "ExecuteTime": {
     "end_time": "2021-04-15T19:51:05.196648Z",
     "start_time": "2021-04-15T19:51:05.186196Z"
    }
   },
   "outputs": [],
   "source": [
    "cov = sample.cov()"
   ]
  },
  {
   "cell_type": "code",
   "execution_count": 20,
   "metadata": {},
   "outputs": [
    {
     "data": {
      "text/html": [
       "<style  type=\"text/css\" >\n",
       "#T_7c8c3_row0_col0,#T_7c8c3_row1_col1,#T_7c8c3_row2_col2,#T_7c8c3_row3_col3,#T_7c8c3_row4_col4,#T_7c8c3_row5_col5,#T_7c8c3_row6_col6,#T_7c8c3_row6_col9,#T_7c8c3_row7_col7,#T_7c8c3_row8_col8{\n",
       "            background-color:  #b40426;\n",
       "            color:  #f1f1f1;\n",
       "        }#T_7c8c3_row0_col1,#T_7c8c3_row1_col8,#T_7c8c3_row3_col9{\n",
       "            background-color:  #5875e1;\n",
       "            color:  #000000;\n",
       "        }#T_7c8c3_row0_col2{\n",
       "            background-color:  #84a7fc;\n",
       "            color:  #000000;\n",
       "        }#T_7c8c3_row0_col3,#T_7c8c3_row2_col5,#T_7c8c3_row3_col4,#T_7c8c3_row9_col2,#T_7c8c3_row9_col7{\n",
       "            background-color:  #4c66d6;\n",
       "            color:  #000000;\n",
       "        }#T_7c8c3_row0_col4,#T_7c8c3_row9_col3{\n",
       "            background-color:  #4358cb;\n",
       "            color:  #f1f1f1;\n",
       "        }#T_7c8c3_row0_col5,#T_7c8c3_row2_col0,#T_7c8c3_row5_col1{\n",
       "            background-color:  #506bda;\n",
       "            color:  #000000;\n",
       "        }#T_7c8c3_row0_col6{\n",
       "            background-color:  #4e68d8;\n",
       "            color:  #000000;\n",
       "        }#T_7c8c3_row0_col7{\n",
       "            background-color:  #6f92f3;\n",
       "            color:  #000000;\n",
       "        }#T_7c8c3_row0_col8,#T_7c8c3_row1_col5{\n",
       "            background-color:  #5977e3;\n",
       "            color:  #000000;\n",
       "        }#T_7c8c3_row0_col9{\n",
       "            background-color:  #799cf8;\n",
       "            color:  #000000;\n",
       "        }#T_7c8c3_row1_col0{\n",
       "            background-color:  #8db0fe;\n",
       "            color:  #000000;\n",
       "        }#T_7c8c3_row1_col2,#T_7c8c3_row5_col0{\n",
       "            background-color:  #6e90f2;\n",
       "            color:  #000000;\n",
       "        }#T_7c8c3_row1_col3{\n",
       "            background-color:  #4a63d3;\n",
       "            color:  #f1f1f1;\n",
       "        }#T_7c8c3_row1_col4{\n",
       "            background-color:  #485fd1;\n",
       "            color:  #f1f1f1;\n",
       "        }#T_7c8c3_row1_col6{\n",
       "            background-color:  #5572df;\n",
       "            color:  #000000;\n",
       "        }#T_7c8c3_row1_col7,#T_7c8c3_row8_col4{\n",
       "            background-color:  #5e7de7;\n",
       "            color:  #000000;\n",
       "        }#T_7c8c3_row1_col9{\n",
       "            background-color:  #a2c1ff;\n",
       "            color:  #000000;\n",
       "        }#T_7c8c3_row2_col1,#T_7c8c3_row2_col3,#T_7c8c3_row2_col6,#T_7c8c3_row2_col7,#T_7c8c3_row2_col9,#T_7c8c3_row3_col2,#T_7c8c3_row5_col8,#T_7c8c3_row9_col0,#T_7c8c3_row9_col4,#T_7c8c3_row9_col5{\n",
       "            background-color:  #3b4cc0;\n",
       "            color:  #f1f1f1;\n",
       "        }#T_7c8c3_row2_col4{\n",
       "            background-color:  #4b64d5;\n",
       "            color:  #f1f1f1;\n",
       "        }#T_7c8c3_row2_col8{\n",
       "            background-color:  #3d50c3;\n",
       "            color:  #f1f1f1;\n",
       "        }#T_7c8c3_row3_col0{\n",
       "            background-color:  #688aef;\n",
       "            color:  #000000;\n",
       "        }#T_7c8c3_row3_col1,#T_7c8c3_row5_col4{\n",
       "            background-color:  #455cce;\n",
       "            color:  #f1f1f1;\n",
       "        }#T_7c8c3_row3_col5{\n",
       "            background-color:  #7b9ff9;\n",
       "            color:  #000000;\n",
       "        }#T_7c8c3_row3_col6{\n",
       "            background-color:  #779af7;\n",
       "            color:  #000000;\n",
       "        }#T_7c8c3_row3_col7{\n",
       "            background-color:  #7597f6;\n",
       "            color:  #000000;\n",
       "        }#T_7c8c3_row3_col8{\n",
       "            background-color:  #b7cff9;\n",
       "            color:  #000000;\n",
       "        }#T_7c8c3_row4_col0{\n",
       "            background-color:  #eed0c0;\n",
       "            color:  #000000;\n",
       "        }#T_7c8c3_row4_col1,#T_7c8c3_row8_col6{\n",
       "            background-color:  #a6c4fe;\n",
       "            color:  #000000;\n",
       "        }#T_7c8c3_row4_col2{\n",
       "            background-color:  #e16751;\n",
       "            color:  #000000;\n",
       "        }#T_7c8c3_row4_col3{\n",
       "            background-color:  #7ea1fa;\n",
       "            color:  #000000;\n",
       "        }#T_7c8c3_row4_col5{\n",
       "            background-color:  #ead5c9;\n",
       "            color:  #000000;\n",
       "        }#T_7c8c3_row4_col6{\n",
       "            background-color:  #cad8ef;\n",
       "            color:  #000000;\n",
       "        }#T_7c8c3_row4_col7{\n",
       "            background-color:  #d3dbe7;\n",
       "            color:  #000000;\n",
       "        }#T_7c8c3_row4_col8{\n",
       "            background-color:  #f59c7d;\n",
       "            color:  #000000;\n",
       "        }#T_7c8c3_row4_col9,#T_7c8c3_row7_col3{\n",
       "            background-color:  #7295f4;\n",
       "            color:  #000000;\n",
       "        }#T_7c8c3_row5_col2,#T_7c8c3_row5_col9{\n",
       "            background-color:  #93b5fe;\n",
       "            color:  #000000;\n",
       "        }#T_7c8c3_row5_col3{\n",
       "            background-color:  #5470de;\n",
       "            color:  #000000;\n",
       "        }#T_7c8c3_row5_col6{\n",
       "            background-color:  #3c4ec2;\n",
       "            color:  #f1f1f1;\n",
       "        }#T_7c8c3_row5_col7{\n",
       "            background-color:  #3e51c5;\n",
       "            color:  #f1f1f1;\n",
       "        }#T_7c8c3_row6_col0{\n",
       "            background-color:  #f6a385;\n",
       "            color:  #000000;\n",
       "        }#T_7c8c3_row6_col1{\n",
       "            background-color:  #9ebeff;\n",
       "            color:  #000000;\n",
       "        }#T_7c8c3_row6_col2{\n",
       "            background-color:  #c5d6f2;\n",
       "            color:  #000000;\n",
       "        }#T_7c8c3_row6_col3{\n",
       "            background-color:  #86a9fc;\n",
       "            color:  #000000;\n",
       "        }#T_7c8c3_row6_col4{\n",
       "            background-color:  #6485ec;\n",
       "            color:  #000000;\n",
       "        }#T_7c8c3_row6_col5{\n",
       "            background-color:  #9fbfff;\n",
       "            color:  #000000;\n",
       "        }#T_7c8c3_row6_col7{\n",
       "            background-color:  #dbdcde;\n",
       "            color:  #000000;\n",
       "        }#T_7c8c3_row6_col8{\n",
       "            background-color:  #f7b89c;\n",
       "            color:  #000000;\n",
       "        }#T_7c8c3_row7_col0{\n",
       "            background-color:  #d95847;\n",
       "            color:  #000000;\n",
       "        }#T_7c8c3_row7_col1{\n",
       "            background-color:  #88abfd;\n",
       "            color:  #000000;\n",
       "        }#T_7c8c3_row7_col2{\n",
       "            background-color:  #9bbcff;\n",
       "            color:  #000000;\n",
       "        }#T_7c8c3_row7_col4{\n",
       "            background-color:  #5b7ae5;\n",
       "            color:  #000000;\n",
       "        }#T_7c8c3_row7_col5{\n",
       "            background-color:  #6a8bef;\n",
       "            color:  #000000;\n",
       "        }#T_7c8c3_row7_col6,#T_7c8c3_row7_col8{\n",
       "            background-color:  #b1cbfc;\n",
       "            color:  #000000;\n",
       "        }#T_7c8c3_row7_col9{\n",
       "            background-color:  #f5c4ac;\n",
       "            color:  #000000;\n",
       "        }#T_7c8c3_row8_col0{\n",
       "            background-color:  #dddcdc;\n",
       "            color:  #000000;\n",
       "        }#T_7c8c3_row8_col1{\n",
       "            background-color:  #7396f5;\n",
       "            color:  #000000;\n",
       "        }#T_7c8c3_row8_col2{\n",
       "            background-color:  #aac7fd;\n",
       "            color:  #000000;\n",
       "        }#T_7c8c3_row8_col3{\n",
       "            background-color:  #81a4fb;\n",
       "            color:  #000000;\n",
       "        }#T_7c8c3_row8_col5{\n",
       "            background-color:  #6282ea;\n",
       "            color:  #000000;\n",
       "        }#T_7c8c3_row8_col7{\n",
       "            background-color:  #8caffe;\n",
       "            color:  #000000;\n",
       "        }#T_7c8c3_row8_col9{\n",
       "            background-color:  #e4d9d2;\n",
       "            color:  #000000;\n",
       "        }#T_7c8c3_row9_col1{\n",
       "            background-color:  #4961d2;\n",
       "            color:  #f1f1f1;\n",
       "        }#T_7c8c3_row9_col6{\n",
       "            background-color:  #536edd;\n",
       "            color:  #000000;\n",
       "        }#T_7c8c3_row9_col8{\n",
       "            background-color:  #465ecf;\n",
       "            color:  #f1f1f1;\n",
       "        }#T_7c8c3_row9_col9{\n",
       "            background-color:  #ea7b60;\n",
       "            color:  #000000;\n",
       "        }</style><table id=\"T_7c8c3_\" ><thead>    <tr>        <th class=\"index_name level0\" >symbol</th>        <th class=\"col_heading level0 col0\" >HIFS</th>        <th class=\"col_heading level0 col1\" >SRDX</th>        <th class=\"col_heading level0 col2\" >DORM</th>        <th class=\"col_heading level0 col3\" >CYTK</th>        <th class=\"col_heading level0 col4\" >VCEL</th>        <th class=\"col_heading level0 col5\" >PBH</th>        <th class=\"col_heading level0 col6\" >LIND</th>        <th class=\"col_heading level0 col7\" >WETF</th>        <th class=\"col_heading level0 col8\" >FC</th>        <th class=\"col_heading level0 col9\" >JJSF</th>    </tr>    <tr>        <th class=\"index_name level0\" >symbol</th>        <th class=\"blank\" ></th>        <th class=\"blank\" ></th>        <th class=\"blank\" ></th>        <th class=\"blank\" ></th>        <th class=\"blank\" ></th>        <th class=\"blank\" ></th>        <th class=\"blank\" ></th>        <th class=\"blank\" ></th>        <th class=\"blank\" ></th>        <th class=\"blank\" ></th>    </tr></thead><tbody>\n",
       "                <tr>\n",
       "                        <th id=\"T_7c8c3_level0_row0\" class=\"row_heading level0 row0\" >HIFS</th>\n",
       "                        <td id=\"T_7c8c3_row0_col0\" class=\"data row0 col0\" >0.004830</td>\n",
       "                        <td id=\"T_7c8c3_row0_col1\" class=\"data row0 col1\" >0.001961</td>\n",
       "                        <td id=\"T_7c8c3_row0_col2\" class=\"data row0 col2\" >0.001274</td>\n",
       "                        <td id=\"T_7c8c3_row0_col3\" class=\"data row0 col3\" >0.001558</td>\n",
       "                        <td id=\"T_7c8c3_row0_col4\" class=\"data row0 col4\" >0.003199</td>\n",
       "                        <td id=\"T_7c8c3_row0_col5\" class=\"data row0 col5\" >0.001605</td>\n",
       "                        <td id=\"T_7c8c3_row0_col6\" class=\"data row0 col6\" >0.003775</td>\n",
       "                        <td id=\"T_7c8c3_row0_col7\" class=\"data row0 col7\" >0.004403</td>\n",
       "                        <td id=\"T_7c8c3_row0_col8\" class=\"data row0 col8\" >0.002917</td>\n",
       "                        <td id=\"T_7c8c3_row0_col9\" class=\"data row0 col9\" >0.000990</td>\n",
       "            </tr>\n",
       "            <tr>\n",
       "                        <th id=\"T_7c8c3_level0_row1\" class=\"row_heading level0 row1\" >SRDX</th>\n",
       "                        <td id=\"T_7c8c3_row1_col0\" class=\"data row1 col0\" >0.001961</td>\n",
       "                        <td id=\"T_7c8c3_row1_col1\" class=\"data row1 col1\" >0.012291</td>\n",
       "                        <td id=\"T_7c8c3_row1_col2\" class=\"data row1 col2\" >0.000872</td>\n",
       "                        <td id=\"T_7c8c3_row1_col3\" class=\"data row1 col3\" >0.001308</td>\n",
       "                        <td id=\"T_7c8c3_row1_col4\" class=\"data row1 col4\" >0.004557</td>\n",
       "                        <td id=\"T_7c8c3_row1_col5\" class=\"data row1 col5\" >0.001717</td>\n",
       "                        <td id=\"T_7c8c3_row1_col6\" class=\"data row1 col6\" >0.004295</td>\n",
       "                        <td id=\"T_7c8c3_row1_col7\" class=\"data row1 col7\" >0.003577</td>\n",
       "                        <td id=\"T_7c8c3_row1_col8\" class=\"data row1 col8\" >0.002888</td>\n",
       "                        <td id=\"T_7c8c3_row1_col9\" class=\"data row1 col9\" >0.001443</td>\n",
       "            </tr>\n",
       "            <tr>\n",
       "                        <th id=\"T_7c8c3_level0_row2\" class=\"row_heading level0 row2\" >DORM</th>\n",
       "                        <td id=\"T_7c8c3_row2_col0\" class=\"data row2 col0\" >0.001274</td>\n",
       "                        <td id=\"T_7c8c3_row2_col1\" class=\"data row2 col1\" >0.000872</td>\n",
       "                        <td id=\"T_7c8c3_row2_col2\" class=\"data row2 col2\" >0.006197</td>\n",
       "                        <td id=\"T_7c8c3_row2_col3\" class=\"data row2 col3\" >-0.000155</td>\n",
       "                        <td id=\"T_7c8c3_row2_col4\" class=\"data row2 col4\" >0.005324</td>\n",
       "                        <td id=\"T_7c8c3_row2_col5\" class=\"data row2 col5\" >0.001553</td>\n",
       "                        <td id=\"T_7c8c3_row2_col6\" class=\"data row2 col6\" >0.002475</td>\n",
       "                        <td id=\"T_7c8c3_row2_col7\" class=\"data row2 col7\" >0.001694</td>\n",
       "                        <td id=\"T_7c8c3_row2_col8\" class=\"data row2 col8\" >0.001956</td>\n",
       "                        <td id=\"T_7c8c3_row2_col9\" class=\"data row2 col9\" >0.000238</td>\n",
       "            </tr>\n",
       "            <tr>\n",
       "                        <th id=\"T_7c8c3_level0_row3\" class=\"row_heading level0 row3\" >CYTK</th>\n",
       "                        <td id=\"T_7c8c3_row3_col0\" class=\"data row3 col0\" >0.001558</td>\n",
       "                        <td id=\"T_7c8c3_row3_col1\" class=\"data row3 col1\" >0.001308</td>\n",
       "                        <td id=\"T_7c8c3_row3_col2\" class=\"data row3 col2\" >-0.000155</td>\n",
       "                        <td id=\"T_7c8c3_row3_col3\" class=\"data row3 col3\" >0.027515</td>\n",
       "                        <td id=\"T_7c8c3_row3_col4\" class=\"data row3 col4\" >0.005661</td>\n",
       "                        <td id=\"T_7c8c3_row3_col5\" class=\"data row3 col5\" >0.002175</td>\n",
       "                        <td id=\"T_7c8c3_row3_col6\" class=\"data row3 col6\" >0.006306</td>\n",
       "                        <td id=\"T_7c8c3_row3_col7\" class=\"data row3 col7\" >0.004615</td>\n",
       "                        <td id=\"T_7c8c3_row3_col8\" class=\"data row3 col8\" >0.005885</td>\n",
       "                        <td id=\"T_7c8c3_row3_col9\" class=\"data row3 col9\" >0.000606</td>\n",
       "            </tr>\n",
       "            <tr>\n",
       "                        <th id=\"T_7c8c3_level0_row4\" class=\"row_heading level0 row4\" >VCEL</th>\n",
       "                        <td id=\"T_7c8c3_row4_col0\" class=\"data row4 col0\" >0.003199</td>\n",
       "                        <td id=\"T_7c8c3_row4_col1\" class=\"data row4 col1\" >0.004557</td>\n",
       "                        <td id=\"T_7c8c3_row4_col2\" class=\"data row4 col2\" >0.005324</td>\n",
       "                        <td id=\"T_7c8c3_row4_col3\" class=\"data row4 col3\" >0.005661</td>\n",
       "                        <td id=\"T_7c8c3_row4_col4\" class=\"data row4 col4\" >0.078713</td>\n",
       "                        <td id=\"T_7c8c3_row4_col5\" class=\"data row4 col5\" >0.003734</td>\n",
       "                        <td id=\"T_7c8c3_row4_col6\" class=\"data row4 col6\" >0.011253</td>\n",
       "                        <td id=\"T_7c8c3_row4_col7\" class=\"data row4 col7\" >0.009146</td>\n",
       "                        <td id=\"T_7c8c3_row4_col8\" class=\"data row4 col8\" >0.009884</td>\n",
       "                        <td id=\"T_7c8c3_row4_col9\" class=\"data row4 col9\" >0.000910</td>\n",
       "            </tr>\n",
       "            <tr>\n",
       "                        <th id=\"T_7c8c3_level0_row5\" class=\"row_heading level0 row5\" >PBH</th>\n",
       "                        <td id=\"T_7c8c3_row5_col0\" class=\"data row5 col0\" >0.001605</td>\n",
       "                        <td id=\"T_7c8c3_row5_col1\" class=\"data row5 col1\" >0.001717</td>\n",
       "                        <td id=\"T_7c8c3_row5_col2\" class=\"data row5 col2\" >0.001553</td>\n",
       "                        <td id=\"T_7c8c3_row5_col3\" class=\"data row5 col3\" >0.002175</td>\n",
       "                        <td id=\"T_7c8c3_row5_col4\" class=\"data row5 col4\" >0.003734</td>\n",
       "                        <td id=\"T_7c8c3_row5_col5\" class=\"data row5 col5\" >0.005730</td>\n",
       "                        <td id=\"T_7c8c3_row5_col6\" class=\"data row5 col6\" >0.002630</td>\n",
       "                        <td id=\"T_7c8c3_row5_col7\" class=\"data row5 col7\" >0.001943</td>\n",
       "                        <td id=\"T_7c8c3_row5_col8\" class=\"data row5 col8\" >0.001843</td>\n",
       "                        <td id=\"T_7c8c3_row5_col9\" class=\"data row5 col9\" >0.001277</td>\n",
       "            </tr>\n",
       "            <tr>\n",
       "                        <th id=\"T_7c8c3_level0_row6\" class=\"row_heading level0 row6\" >LIND</th>\n",
       "                        <td id=\"T_7c8c3_row6_col0\" class=\"data row6 col0\" >0.003775</td>\n",
       "                        <td id=\"T_7c8c3_row6_col1\" class=\"data row6 col1\" >0.004295</td>\n",
       "                        <td id=\"T_7c8c3_row6_col2\" class=\"data row6 col2\" >0.002475</td>\n",
       "                        <td id=\"T_7c8c3_row6_col3\" class=\"data row6 col3\" >0.006306</td>\n",
       "                        <td id=\"T_7c8c3_row6_col4\" class=\"data row6 col4\" >0.011253</td>\n",
       "                        <td id=\"T_7c8c3_row6_col5\" class=\"data row6 col5\" >0.002630</td>\n",
       "                        <td id=\"T_7c8c3_row6_col6\" class=\"data row6 col6\" >0.022818</td>\n",
       "                        <td id=\"T_7c8c3_row6_col7\" class=\"data row6 col7\" >0.009691</td>\n",
       "                        <td id=\"T_7c8c3_row6_col8\" class=\"data row6 col8\" >0.009064</td>\n",
       "                        <td id=\"T_7c8c3_row6_col9\" class=\"data row6 col9\" >0.004109</td>\n",
       "            </tr>\n",
       "            <tr>\n",
       "                        <th id=\"T_7c8c3_level0_row7\" class=\"row_heading level0 row7\" >WETF</th>\n",
       "                        <td id=\"T_7c8c3_row7_col0\" class=\"data row7 col0\" >0.004403</td>\n",
       "                        <td id=\"T_7c8c3_row7_col1\" class=\"data row7 col1\" >0.003577</td>\n",
       "                        <td id=\"T_7c8c3_row7_col2\" class=\"data row7 col2\" >0.001694</td>\n",
       "                        <td id=\"T_7c8c3_row7_col3\" class=\"data row7 col3\" >0.004615</td>\n",
       "                        <td id=\"T_7c8c3_row7_col4\" class=\"data row7 col4\" >0.009146</td>\n",
       "                        <td id=\"T_7c8c3_row7_col5\" class=\"data row7 col5\" >0.001943</td>\n",
       "                        <td id=\"T_7c8c3_row7_col6\" class=\"data row7 col6\" >0.009691</td>\n",
       "                        <td id=\"T_7c8c3_row7_col7\" class=\"data row7 col7\" >0.017846</td>\n",
       "                        <td id=\"T_7c8c3_row7_col8\" class=\"data row7 col8\" >0.005685</td>\n",
       "                        <td id=\"T_7c8c3_row7_col9\" class=\"data row7 col9\" >0.002670</td>\n",
       "            </tr>\n",
       "            <tr>\n",
       "                        <th id=\"T_7c8c3_level0_row8\" class=\"row_heading level0 row8\" >FC</th>\n",
       "                        <td id=\"T_7c8c3_row8_col0\" class=\"data row8 col0\" >0.002917</td>\n",
       "                        <td id=\"T_7c8c3_row8_col1\" class=\"data row8 col1\" >0.002888</td>\n",
       "                        <td id=\"T_7c8c3_row8_col2\" class=\"data row8 col2\" >0.001956</td>\n",
       "                        <td id=\"T_7c8c3_row8_col3\" class=\"data row8 col3\" >0.005885</td>\n",
       "                        <td id=\"T_7c8c3_row8_col4\" class=\"data row8 col4\" >0.009884</td>\n",
       "                        <td id=\"T_7c8c3_row8_col5\" class=\"data row8 col5\" >0.001843</td>\n",
       "                        <td id=\"T_7c8c3_row8_col6\" class=\"data row8 col6\" >0.009064</td>\n",
       "                        <td id=\"T_7c8c3_row8_col7\" class=\"data row8 col7\" >0.005685</td>\n",
       "                        <td id=\"T_7c8c3_row8_col8\" class=\"data row8 col8\" >0.012655</td>\n",
       "                        <td id=\"T_7c8c3_row8_col9\" class=\"data row8 col9\" >0.002291</td>\n",
       "            </tr>\n",
       "            <tr>\n",
       "                        <th id=\"T_7c8c3_level0_row9\" class=\"row_heading level0 row9\" >JJSF</th>\n",
       "                        <td id=\"T_7c8c3_row9_col0\" class=\"data row9 col0\" >0.000990</td>\n",
       "                        <td id=\"T_7c8c3_row9_col1\" class=\"data row9 col1\" >0.001443</td>\n",
       "                        <td id=\"T_7c8c3_row9_col2\" class=\"data row9 col2\" >0.000238</td>\n",
       "                        <td id=\"T_7c8c3_row9_col3\" class=\"data row9 col3\" >0.000606</td>\n",
       "                        <td id=\"T_7c8c3_row9_col4\" class=\"data row9 col4\" >0.000910</td>\n",
       "                        <td id=\"T_7c8c3_row9_col5\" class=\"data row9 col5\" >0.001277</td>\n",
       "                        <td id=\"T_7c8c3_row9_col6\" class=\"data row9 col6\" >0.004109</td>\n",
       "                        <td id=\"T_7c8c3_row9_col7\" class=\"data row9 col7\" >0.002670</td>\n",
       "                        <td id=\"T_7c8c3_row9_col8\" class=\"data row9 col8\" >0.002291</td>\n",
       "                        <td id=\"T_7c8c3_row9_col9\" class=\"data row9 col9\" >0.003406</td>\n",
       "            </tr>\n",
       "    </tbody></table>"
      ],
      "text/plain": [
       "<pandas.io.formats.style.Styler at 0x22b08bcbe80>"
      ]
     },
     "execution_count": 20,
     "metadata": {},
     "output_type": "execute_result"
    }
   ],
   "source": [
    "# Show the variance-covariance for the assets in this example\n",
    "cov.style.background_gradient(cmap='coolwarm')"
   ]
  },
  {
   "cell_type": "markdown",
   "metadata": {},
   "source": [
    "The diagonal for this matrix is the variance for each stock, and the covariances are the other cells. "
   ]
  },
  {
   "cell_type": "code",
   "execution_count": 21,
   "metadata": {},
   "outputs": [],
   "source": [
    "precision_matrix = pd.DataFrame(inv(cov), index=sampleindex, columns=sampleindex)"
   ]
  },
  {
   "cell_type": "code",
   "execution_count": 22,
   "metadata": {
    "ExecuteTime": {
     "end_time": "2021-04-15T19:51:05.203899Z",
     "start_time": "2021-04-15T19:51:05.197646Z"
    }
   },
   "outputs": [],
   "source": [
    "CorrK = precision_matrix.dot(SampleMean)\n",
    "# sample.mean() is the mean vector"
   ]
  },
  {
   "cell_type": "markdown",
   "metadata": {},
   "source": [
    "Here we can see the kelly allocations:"
   ]
  },
  {
   "cell_type": "code",
   "execution_count": 23,
   "metadata": {},
   "outputs": [
    {
     "name": "stdout",
     "output_type": "stream",
     "text": [
      "symbol\n",
      "HIFS    5.168192\n",
      "SRDX    0.572180\n",
      "DORM    1.357848\n",
      "CYTK    1.266888\n",
      "VCEL    0.663351\n",
      "PBH    -0.790967\n",
      "LIND   -0.151406\n",
      "WETF   -2.247509\n",
      "FC     -0.367736\n",
      "JJSF    1.562273\n",
      "dtype: float64\n"
     ]
    }
   ],
   "source": [
    "print(CorrK)"
   ]
  },
  {
   "cell_type": "markdown",
   "metadata": {},
   "source": [
    "But, the solution is not constrained. This is important for the model to work correctly, since leverage is incredibly risk and unrealistic. Running a portfolio without these conditions will not work. To overcome this situation, consider the maximization of the expected growth rate $g^*$. Notationally this corresponds to:"
   ]
  },
  {
   "cell_type": "markdown",
   "metadata": {},
   "source": [
    "$ g^* = argmax_{F}[r + F^T(M-R)- 0.5(F^T \\hat{\\Sigma}F)]$ subject to: $\\sum\\limits_{i=1}^{n} f_{i} \\le 1 ; 0 \\le f_{i} \\le 1$"
   ]
  },
  {
   "cell_type": "markdown",
   "metadata": {},
   "source": [
    "To solve this, you need to compute a quadratic maximization problem. This is done here:"
   ]
  },
  {
   "cell_type": "code",
   "execution_count": 24,
   "metadata": {},
   "outputs": [],
   "source": [
    "# pip install gurobipy\n",
    "import gurobipy as gp\n",
    "from gurobipy import GRB"
   ]
  },
  {
   "cell_type": "code",
   "execution_count": 25,
   "metadata": {},
   "outputs": [],
   "source": [
    "def maxCK(mean,cov):\n",
    "    ''' Maxamize the Kelly Fraction for correlated assets. Inputs are a mean vector and a covariance matrix.\n",
    "        Note that covariance matrix must not be singular. '''\n",
    "\n",
    "    m = gp.Model(\"opt1\") # Create the model\n",
    "\n",
    "    nstocks = len(mean)\n",
    "\n",
    "    t = mean.to_numpy()\n",
    "    c = cov.to_numpy()\n",
    "\n",
    "    x = m.addMVar(shape=nstocks, lb=0.0, name=\"stock\") # create weight vector\n",
    "\n",
    "    m.Params.Threads=0.25 #reduce computer load\n",
    "    m.Params.LogToConsole=0\n",
    "\n",
    "    # Set the bounds for the weights to be above 0 and less than 1\n",
    "    m.addConstr(x>=0, name='above 0') \n",
    "    m.addConstr(x<=1, name='below 1')\n",
    "\n",
    "    # Make sure weights sum to 1 (fully invested portfolio)\n",
    "    m.addConstr(x.sum()==1, name = 'equals 1')\n",
    "\n",
    "    # This equation \n",
    "    m.setObjective (x@t - 0.5*(x@c@x), GRB.MAXIMIZE)\n",
    "    m.optimize()\n",
    "    pos = np.array([m.getVars()[i].x for i in range(len(m.getVars()))])\n",
    "    return pos"
   ]
  },
  {
   "cell_type": "code",
   "execution_count": 26,
   "metadata": {},
   "outputs": [],
   "source": [
    "def CorK(x):\n",
    "    ''' Create a DataFrame for correlated Kelly allocations. Uses quadratic program created from before (maxCK).'''\n",
    "    test= x.reset_index(drop=True)\n",
    "    list = []\n",
    "    idx = x.columns\n",
    "    means = x.rolling(12).mean() # Create rolling means for the assets\n",
    "    for i, r in test.iloc[12:].iterrows():\n",
    "        m = means.iloc[i]\n",
    "        cov = x.iloc[i-12:i].cov() # Create the covariance matrix\n",
    "        k = maxCK(m,cov) # Calculate the optimal allocations\n",
    "        k = pd.Series(k, index = idx)\n",
    "        list.append(k)\n",
    "    return pd.DataFrame(list)      \n"
   ]
  },
  {
   "cell_type": "code",
   "execution_count": 27,
   "metadata": {},
   "outputs": [],
   "source": [
    "def UnCorK(x):\n",
    "    test= x.reset_index(drop=True)\n",
    "    list = []\n",
    "    means = test.rolling(12).mean()\n",
    "    vars = test.rolling(12).var()\n",
    "    for i, r in test.iloc[12:].iterrows():\n",
    "        var = vars.iloc[i]\n",
    "        mean = means.iloc[i]\n",
    "        k = mean/var\n",
    "        list.append(k)\n",
    "    x = pd.DataFrame(list)\n",
    "    x.reset_index(drop=True, inplace=True)\n",
    "    return(x)\n"
   ]
  },
  {
   "cell_type": "code",
   "execution_count": 28,
   "metadata": {},
   "outputs": [
    {
     "name": "stdout",
     "output_type": "stream",
     "text": [
      "Restricted license - for non-production use only - expires 2023-10-25\n"
     ]
    }
   ],
   "source": [
    "# computationally taxing WARNING\n",
    "corrkellys = CorK(sample) "
   ]
  },
  {
   "cell_type": "code",
   "execution_count": 29,
   "metadata": {},
   "outputs": [],
   "source": [
    "# Put constraints onto the uncorrelated case\n",
    "uncorrkellys = UnCorK(sample)\n",
    "uncorrkellys[uncorrkellys<0]=0 #normalization \n",
    "uncorrkellys = uncorrkellys.div(uncorrkellys.sum(axis=1), axis=0)    "
   ]
  },
  {
   "cell_type": "code",
   "execution_count": 30,
   "metadata": {},
   "outputs": [],
   "source": [
    "def kellyport(allocations,returns,v):\n",
    "    # Computes the kelly portfolio (assuming constrained to sum to 1 and positive only)\n",
    "    list = []\n",
    "    for i, r in allocations.iloc[1:].iterrows():\n",
    "        prev = allocations.iloc[i-1]\n",
    "        change = prev * returns.iloc[i]\n",
    "        s = change.sum() + 1\n",
    "        if v<0:\n",
    "            print('BUST')\n",
    "            break\n",
    "        v = s*v\n",
    "        list.append(v)\n",
    "    return pd.DataFrame(list)"
   ]
  },
  {
   "cell_type": "code",
   "execution_count": 31,
   "metadata": {},
   "outputs": [],
   "source": [
    "def eqport(returns,v):\n",
    "    # Computes a portfolio  for an equal-weighted portfolio.this is the benchmark case. \n",
    "    list = []\n",
    "    l = len(returns.columns)\n",
    "    for i, r in returns.iloc[1:].iterrows():\n",
    "        prev = np.full(l,1/l)\n",
    "        change = prev * returns.iloc[i]\n",
    "        s = change.sum() + 1\n",
    "        if v<0:\n",
    "            print('BUST')\n",
    "            break\n",
    "        v = s*v\n",
    "        list.append(v)\n",
    "    return pd.DataFrame(list)"
   ]
  },
  {
   "cell_type": "code",
   "execution_count": 32,
   "metadata": {},
   "outputs": [],
   "source": [
    "retper = sample.iloc[12:].reset_index(drop=True)"
   ]
  },
  {
   "cell_type": "code",
   "execution_count": 33,
   "metadata": {},
   "outputs": [],
   "source": [
    "eq = eqport(retper,10000)"
   ]
  },
  {
   "cell_type": "code",
   "execution_count": 34,
   "metadata": {},
   "outputs": [],
   "source": [
    "uK = kellyport(uncorrkellys,retper,10000)\n",
    "corK = kellyport(corrkellys,retper,10000)"
   ]
  },
  {
   "cell_type": "code",
   "execution_count": 35,
   "metadata": {},
   "outputs": [],
   "source": [
    "# Set index\n",
    "tt = sample.iloc[13:].index"
   ]
  },
  {
   "cell_type": "code",
   "execution_count": 36,
   "metadata": {},
   "outputs": [],
   "source": [
    "uK.set_index(tt, inplace=True)\n",
    "corK.set_index(tt, inplace=True)\n",
    "eq.set_index(tt, inplace=True)"
   ]
  },
  {
   "cell_type": "code",
   "execution_count": 37,
   "metadata": {},
   "outputs": [
    {
     "name": "stdout",
     "output_type": "stream",
     "text": [
      "0    0.013816\n",
      "dtype: float64\n",
      "0    0.036681\n",
      "dtype: float64\n",
      "0    0.021875\n",
      "dtype: float64\n"
     ]
    }
   ],
   "source": [
    "print(uK.pct_change().mean())\n",
    "print(corK.pct_change().mean())\n",
    "print(eq.pct_change().mean())"
   ]
  },
  {
   "cell_type": "markdown",
   "metadata": {},
   "source": [
    "So in terms of average growth rate, the equal weighted performs the worst, then comes the uncorrelated kelly, and the best performer is the correlated kelly implementation."
   ]
  },
  {
   "cell_type": "code",
   "execution_count": 38,
   "metadata": {},
   "outputs": [
    {
     "data": {
      "image/png": "[encoded data removed]",
      "text/plain": [
       "<Figure size 720x360 with 1 Axes>"
      ]
     },
     "metadata": {
      "needs_background": "light"
     },
     "output_type": "display_data"
    }
   ],
   "source": [
    "fig, ax = plt.subplots(figsize=(10,5))\n",
    "ax.set_xlabel('Date')\n",
    "ax.set_ylabel('Portfolio Value')\n",
    "plt.plot(uK, label='Uncorrelated kelly')\n",
    "plt.plot(corK, label='Correlated kelly')\n",
    "plt.plot(eq, label = 'Equal Weighted')\n",
    "ax.set_title('Kelly Portfolio Values')\n",
    "ax.legend();"
   ]
  },
  {
   "cell_type": "code",
   "execution_count": 39,
   "metadata": {},
   "outputs": [
    {
     "data": {
      "image/png": "[encoded data removed]",
      "text/plain": [
       "<Figure size 720x360 with 1 Axes>"
      ]
     },
     "metadata": {
      "needs_background": "light"
     },
     "output_type": "display_data"
    }
   ],
   "source": [
    "fig, ax = plt.subplots(figsize=(10,5))\n",
    "ax.set_title('Log Wealth Portfolio Values')\n",
    "ax.set_xlabel('Date')\n",
    "ax.set_ylabel('Log Wealth')\n",
    "plt.plot(np.log(uK), label='Uncorrelated Kelly')\n",
    "plt.plot(np.log(corK), label='Correlated Kelly')\n",
    "plt.plot(np.log(eq), label = 'Equal Weighted')\n",
    "ax.legend();"
   ]
  },
  {
   "cell_type": "code",
   "execution_count": 40,
   "metadata": {},
   "outputs": [
    {
     "data": {
      "image/png": "[encoded data removed]",
      "text/plain": [
       "<Figure size 720x360 with 1 Axes>"
      ]
     },
     "metadata": {
      "needs_background": "light"
     },
     "output_type": "display_data"
    }
   ],
   "source": [
    "fig, ax = plt.subplots(figsize=(10,5))\n",
    "ax.set_title('Pct. Change Portfolio Values')\n",
    "ax.set_xlabel('Date')\n",
    "ax.set_ylabel('Pct. Change')\n",
    "plt.plot(uK.pct_change(), label='Uncorrelated Kelly')\n",
    "plt.plot(corK.pct_change(), label='Correlated Kelly')\n",
    "plt.plot(eq.pct_change(), label = 'Equal Weighted')\n",
    "ax.legend();"
   ]
  },
  {
   "cell_type": "markdown",
   "metadata": {},
   "source": [
    "We can see that although the growth rate on average is greater for the kelly implemented portfolios, there are some issues with large drawdowns and the overall performance is only slightly better than the benchmark. There is also clear evidence that the correlated case is needed to ensure better performance. "
   ]
  },
  {
   "cell_type": "markdown",
   "metadata": {},
   "source": [
    "## Using the ML Predictions in Conjunction with Kelly Principle"
   ]
  },
  {
   "cell_type": "code",
   "execution_count": 41,
   "metadata": {},
   "outputs": [],
   "source": [
    "lookahead = 21"
   ]
  },
  {
   "cell_type": "code",
   "execution_count": 42,
   "metadata": {},
   "outputs": [],
   "source": [
    "def PredCorK(pred,ret):\n",
    "    ''' Create a DataFrame for correlated Kelly allocations. Uses quadratic program created from before (maxCK).'''\n",
    "    test= pred.reset_index(drop=True)\n",
    "    window = ret.reset_index(drop=True)\n",
    "    list = []\n",
    "    idx = pred.columns\n",
    "    for i, r in test.iterrows():\n",
    "        m = test.iloc[i]\n",
    "        cov = ret.iloc[67+i:70+i].cov() # Create the covariance matrix\n",
    "        k = maxCK(m,cov) # Calculate the optimal allocations\n",
    "        k = pd.Series(k, index = idx)\n",
    "        list.append(k)\n",
    "    return pd.DataFrame(list)      "
   ]
  },
  {
   "cell_type": "code",
   "execution_count": 43,
   "metadata": {},
   "outputs": [],
   "source": [
    "predictions = pd.read_hdf('data/predictions.h5', f'lgb/test/{lookahead:02}').drop('y_test', axis=1)\n",
    "predictions = (predictions.loc[~predictions.index.duplicated()]     \n",
    "                   .iloc[:, :5]\n",
    "                   .mean(1)\n",
    "                   .sort_index()\n",
    "                   .dropna())\n",
    "predictions.index.names = ['ticker', 'date']\n",
    "predictions = predictions.unstack('ticker').resample('M').last().dropna(how='all').dropna(axis=1)"
   ]
  },
  {
   "cell_type": "code",
   "execution_count": 44,
   "metadata": {},
   "outputs": [],
   "source": [
    "p = predictions.sample(20,axis=1)\n",
    "stocks = p.columns.tolist() # Creates list of tickers from the top and bottom predictions\n",
    "ret = monthly_returns[stocks] # In order to compute the covariance matrix, get the same dates and isolate the data to the choosen tickers"
   ]
  },
  {
   "cell_type": "markdown",
   "metadata": {},
   "source": [
    "## Run the Portfolios for Different Samples"
   ]
  },
  {
   "cell_type": "code",
   "execution_count": 45,
   "metadata": {},
   "outputs": [],
   "source": [
    "for x in range(100):\n",
    "    p = predictions.sample(20,axis=1)\n",
    "    stocks = p.columns.tolist()\n",
    "    returns = monthly_returns[stocks]\n",
    "    PCK = PredCorK(p,returns)\n",
    "    pt = CorK(returns.iloc[58:])\n",
    "    matchedRet = returns.iloc[70:].reset_index(drop=True)\n",
    "    MachineLearning = kellyport(PCK,matchedRet,10000)\n",
    "    CorrKelly = kellyport(pt,matchedRet,10000)\n",
    "    EqualWeighted = eqport(matchedRet, 10000)\n",
    "    ii = ret.iloc[71:].index\n",
    "    MachineLearning.set_index(ii, inplace=True)\n",
    "    EqualWeighted.set_index(ii, inplace=True)\n",
    "    CorrKelly.set_index(ii, inplace=True)\n",
    "    EqualWeighted.rename(columns={0:f'EW{x}'},inplace=True)\n",
    "    MachineLearning.rename(columns={0:f'ML{x}'},inplace=True)\n",
    "    CorrKelly.rename(columns={0:f'CK{x}'},inplace=True)\n",
    "    if x==0:\n",
    "        EW = EqualWeighted\n",
    "        ML = MachineLearning\n",
    "        CK = CorrKelly\n",
    "    else:\n",
    "        EW = EW.join(EqualWeighted)\n",
    "        ML = ML.join(MachineLearning)\n",
    "        CK = CK.join(CorrKelly)"
   ]
  },
  {
   "cell_type": "code",
   "execution_count": 46,
   "metadata": {},
   "outputs": [],
   "source": [
    "# Exports DataFrames to Excel\n",
    "with pd.ExcelWriter('PortfolioFinal.xlsx') as writer:\n",
    "    EW.to_excel(writer, sheet_name='Equal Weighted')\n",
    "    ML.to_excel(writer, sheet_name='Machine Learning Mean')\n",
    "    CK.to_excel(writer, 'Correlated Kelly')"
   ]
  },
  {
   "cell_type": "code",
   "execution_count": 47,
   "metadata": {},
   "outputs": [
    {
     "name": "stdout",
     "output_type": "stream",
     "text": [
      "Equal Weighted: 2.181%\n",
      "Correlated Kelly: 3.284%\n",
      "Machine Learning: 6.295%\n"
     ]
    }
   ],
   "source": [
    "# Show the average monthly growth rates for the different techniques\n",
    "print(\"Equal Weighted: \" + \"{:.3%}\".format(EW.pct_change().mean().mean()))\n",
    "print(\"Correlated Kelly: \" + \"{:.3%}\".format(CK.pct_change().mean().mean()))\n",
    "print(\"Machine Learning: \" + \"{:.3%}\".format(ML.pct_change().mean().mean()))"
   ]
  },
  {
   "cell_type": "code",
   "execution_count": 48,
   "metadata": {},
   "outputs": [
    {
     "data": {
      "image/png": "[encoded data removed]",
      "text/plain": [
       "<Figure size 720x360 with 1 Axes>"
      ]
     },
     "metadata": {
      "needs_background": "light"
     },
     "output_type": "display_data"
    }
   ],
   "source": [
    "fig, ax = plt.subplots(figsize=(10,5))\n",
    "ax.set_title('Portfolio Values')\n",
    "ax.set_xlabel('Date')\n",
    "ax.set_ylabel('Average Portfolio Values')\n",
    "plt.plot(ML.mean(axis=1), label='Machine Learning Kelly')\n",
    "plt.plot(CK.mean(axis=1), label='Correlated Kelly')\n",
    "plt.plot(EW.mean(axis=1), label = 'Equal Weighted')\n",
    "ax.legend();"
   ]
  },
  {
   "cell_type": "markdown",
   "metadata": {},
   "source": [
    "So, the results show that the kelly formula does in fact maximize the average growth. But, the formula tends to invest heavily in a single stock, causing larger drawdowns. This can be seen by the fact that the average performance of a kelly implementation ends up almost even(in terms of overall value) with the equal weighted portfolio. Also, the performance in drawdown periods is less than ideal. \n",
    "This result directly relates with the general discorse on the implementation of the Kelly Principle pointing to partial kelly systems (where things like the half kelly come in), espicially when you are using longer time frames like the monthly system tested in this example. It also points to implementing a system that provides greater position diversification systems. An interesting implementation would be adding some sort of risk parity system in conjunction with kelly position sizing, for example.  "
   ]
  },
  {
   "cell_type": "markdown",
   "metadata": {},
   "source": [
    "## Drawdown Probability Distributions"
   ]
  },
  {
   "cell_type": "code",
   "execution_count": 179,
   "metadata": {},
   "outputs": [
    {
     "data": {
      "image/png": "[encoded data removed]",
      "text/plain": [
       "<Figure size 540x252 with 1 Axes>"
      ]
     },
     "metadata": {
      "needs_background": "light"
     },
     "output_type": "display_data"
    }
   ],
   "source": [
    "# Get rid of an outlier\n",
    "ML.pct_change().iloc[1:4].unstack().idxmax()\n",
    "x = ML.pct_change().iloc[1:4].unstack()\n",
    "x.drop(index=('ML65','2020-03-31 00:00:00'),inplace =True) \n",
    "\n",
    "ax.set_title('Machine Learning')\n",
    "probplot(x,plot=plt)\n",
    "plt.show()"
   ]
  },
  {
   "cell_type": "code",
   "execution_count": 180,
   "metadata": {},
   "outputs": [
    {
     "data": {
      "image/png": "[encoded data removed]",
      "text/plain": [
       "<Figure size 540x252 with 1 Axes>"
      ]
     },
     "metadata": {
      "needs_background": "light"
     },
     "output_type": "display_data"
    }
   ],
   "source": [
    "probplot(CK.pct_change().iloc[1:4].unstack(),plot=plt)\n",
    "ax.set_title('Correlated Kelly')\n",
    "plt.show()"
   ]
  },
  {
   "cell_type": "code",
   "execution_count": 181,
   "metadata": {},
   "outputs": [
    {
     "data": {
      "image/png": "[encoded data removed]",
      "text/plain": [
       "<Figure size 540x252 with 1 Axes>"
      ]
     },
     "metadata": {
      "needs_background": "light"
     },
     "output_type": "display_data"
    }
   ],
   "source": [
    "probplot(EW.pct_change().iloc[1:4].unstack(),plot=plt)\n",
    "ax.set_title('Equal Weighted')\n",
    "plt.show()"
   ]
  },
  {
   "cell_type": "code",
   "execution_count": 173,
   "metadata": {},
   "outputs": [
    {
     "name": "stdout",
     "output_type": "stream",
     "text": [
      "Avg. Growth Rate, Equal Weighted: -12.835%\n",
      "Avg. Growth Rate, Correlated Kelly: -13.209%\n",
      "Avg. Growth Rate, Machine Learning: -12.376%\n"
     ]
    }
   ],
   "source": [
    "print(\"Avg. Growth Rate, Equal Weighted: \" + \"{:.3%}\".format(EW.pct_change().iloc[1:4].unstack().mean()))\n",
    "print(\"Avg. Growth Rate, Correlated Kelly: \" + \"{:.3%}\".format(CK.pct_change().iloc[1:4].unstack().mean()))\n",
    "print(\"Avg. Growth Rate, Machine Learning: \" + \"{:.3%}\".format(ML.pct_change().iloc[1:4].unstack().mean()))"
   ]
  },
  {
   "cell_type": "code",
   "execution_count": 178,
   "metadata": {},
   "outputs": [
    {
     "name": "stdout",
     "output_type": "stream",
     "text": [
      "5th Percentile, Equal Weighted: -27.961%\n",
      "5th Percentile, Correlated Kelly: -40.689%\n",
      "5th Percentile, Machine Learning: -49.553%\n"
     ]
    }
   ],
   "source": [
    "print(\"5th Percentile, Equal Weighted: \" + \"{:.3%}\".format(EW.pct_change().iloc[1:4].unstack().quantile(0.05)))\n",
    "print(\"5th Percentile, Correlated Kelly: \" + \"{:.3%}\".format(CK.pct_change().iloc[1:4].unstack().quantile(0.05)))\n",
    "print(\"5th Percentile, Machine Learning: \" + \"{:.3%}\".format(ML.pct_change().iloc[1:4].unstack().quantile(0.05)))"
   ]
  },
  {
   "cell_type": "markdown",
   "metadata": {},
   "source": [
    "The average growth rate for ML Kelly is the highest, with correlated kelly being the lowest. But, the problem as was explained early is the higher drawdowns that are possible when taking highly focused positions. This can be seen in the percentile analysis, where the ML and CK models have -50% and -40% as the percentile averages, respectively. Clearly, this is points to a large problem with implementing full kelly systems. "
   ]
  }
 ],
 "metadata": {
  "kernelspec": {
   "display_name": "Python 3",
   "language": "python",
   "name": "python3"
  },
  "language_info": {
   "codemirror_mode": {
    "name": "ipython",
    "version": 3
   },
   "file_extension": ".py",
   "mimetype": "text/x-python",
   "name": "python",
   "nbconvert_exporter": "python",
   "pygments_lexer": "ipython3",
   "version": "3.8.8"
  },
  "toc": {
   "base_numbering": 1,
   "nav_menu": {},
   "number_sections": true,
   "sideBar": true,
   "skip_h1_title": true,
   "title_cell": "Table of Contents",
   "title_sidebar": "Contents",
   "toc_cell": false,
   "toc_position": {},
   "toc_section_display": true,
   "toc_window_display": true
  }
 },
 "nbformat": 4,
 "nbformat_minor": 2
}
