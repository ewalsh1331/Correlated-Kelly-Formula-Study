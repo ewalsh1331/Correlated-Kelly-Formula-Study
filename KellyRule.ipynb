{
 "cells": [
  {
   "cell_type": "code",
   "execution_count": 2,
   "metadata": {
    "ExecuteTime": {
     "end_time": "2021-04-15T19:50:52.722552Z",
     "start_time": "2021-04-15T19:50:52.720619Z"
    }
   },
   "outputs": [],
   "source": [
    "import warnings\n",
    "warnings.filterwarnings('ignore')"
   ]
  },
  {
   "cell_type": "code",
   "execution_count": 23,
   "metadata": {
    "ExecuteTime": {
     "end_time": "2021-04-15T19:50:53.369792Z",
     "start_time": "2021-04-15T19:50:52.723812Z"
    }
   },
   "outputs": [],
   "source": [
    "%matplotlib inline\n",
    "from pathlib import Path\n",
    "\n",
    "import numpy as np\n",
    "import pandas as pd\n",
    "from numpy.linalg import inv\n",
    "\n",
    "\n",
    "idx = pd.IndexSlice\n",
    "import matplotlib.pyplot as plt\n",
    "import seaborn as sns"
   ]
  },
  {
   "cell_type": "markdown",
   "metadata": {},
   "source": [
    "## Data Ingestion"
   ]
  },
  {
   "cell_type": "markdown",
   "metadata": {},
   "source": [
    "Note that some of this data was created in a different project: Gradient Booster Model for Factor Prediction"
   ]
  },
  {
   "cell_type": "code",
   "execution_count": 24,
   "metadata": {},
   "outputs": [],
   "source": [
    "prices = pd.read_hdf('data/prices', 'prices') # for later ingesting"
   ]
  },
  {
   "cell_type": "code",
   "execution_count": 25,
   "metadata": {},
   "outputs": [
    {
     "name": "stdout",
     "output_type": "stream",
     "text": [
      "<class 'pandas.core.frame.DataFrame'>\n",
      "MultiIndex: 3025636 entries, ('AMC', Timestamp('2013-12-18 00:00:00')) to ('HAYN', Timestamp('2021-12-23 00:00:00'))\n",
      "Data columns (total 5 columns):\n",
      " #   Column  Dtype  \n",
      "---  ------  -----  \n",
      " 0   high    float64\n",
      " 1   close   float64\n",
      " 2   low     float64\n",
      " 3   open    float64\n",
      " 4   volume  float64\n",
      "dtypes: float64(5)\n",
      "memory usage: 127.2+ MB\n"
     ]
    }
   ],
   "source": [
    "prices.info()"
   ]
  },
  {
   "cell_type": "markdown",
   "metadata": {},
   "source": [
    "## Creating A 'Simple' Kelly Allocation Off Historical Data"
   ]
  },
  {
   "cell_type": "code",
   "execution_count": 26,
   "metadata": {},
   "outputs": [],
   "source": [
    "close = prices['close'].unstack('symbol')"
   ]
  },
  {
   "cell_type": "markdown",
   "metadata": {},
   "source": [
    "Create the monthly returns (as a percent change):"
   ]
  },
  {
   "cell_type": "code",
   "execution_count": 27,
   "metadata": {
    "ExecuteTime": {
     "end_time": "2021-04-15T19:51:05.185223Z",
     "start_time": "2021-04-15T19:51:05.138252Z"
    }
   },
   "outputs": [
    {
     "name": "stdout",
     "output_type": "stream",
     "text": [
      "<class 'pandas.core.frame.DataFrame'>\n",
      "DatetimeIndex: 95 entries, 2014-01-31 to 2021-11-30\n",
      "Freq: M\n",
      "Columns: 1000 entries, AMC to HAYN\n",
      "dtypes: float64(1000)\n",
      "memory usage: 742.9 KB\n"
     ]
    }
   ],
   "source": [
    "monthly_returns = close.loc['2014':'2021-11-30'].resample('M').last().pct_change()\n",
    "stocks = monthly_returns.columns\n",
    "monthly_returns.info()"
   ]
  },
  {
   "cell_type": "markdown",
   "metadata": {},
   "source": [
    "Take a 10 ticker sample to simplify the visualizations for this example. Limit the timeframe as well"
   ]
  },
  {
   "cell_type": "code",
   "execution_count": 205,
   "metadata": {},
   "outputs": [],
   "source": [
    "sample = monthly_returns.sample(n=10,axis=1)\n",
    "sampleindex = sample.columns"
   ]
  },
  {
   "cell_type": "code",
   "execution_count": 206,
   "metadata": {},
   "outputs": [],
   "source": [
    "sample = sample.loc['2015':]"
   ]
  },
  {
   "cell_type": "code",
   "execution_count": 207,
   "metadata": {},
   "outputs": [
    {
     "name": "stdout",
     "output_type": "stream",
     "text": [
      "<class 'pandas.core.frame.DataFrame'>\n",
      "DatetimeIndex: 83 entries, 2015-01-31 to 2021-11-30\n",
      "Freq: M\n",
      "Data columns (total 10 columns):\n",
      " #   Column  Non-Null Count  Dtype  \n",
      "---  ------  --------------  -----  \n",
      " 0   MCS     83 non-null     float64\n",
      " 1   AEO     83 non-null     float64\n",
      " 2   YORW    83 non-null     float64\n",
      " 3   UPLD    83 non-null     float64\n",
      " 4   FBC     83 non-null     float64\n",
      " 5   WWW     83 non-null     float64\n",
      " 6   VBTX    83 non-null     float64\n",
      " 7   GABC    83 non-null     float64\n",
      " 8   ACAD    83 non-null     float64\n",
      " 9   IBOC    83 non-null     float64\n",
      "dtypes: float64(10)\n",
      "memory usage: 7.1 KB\n"
     ]
    }
   ],
   "source": [
    "sample.info() # Make sure data is non-null"
   ]
  },
  {
   "cell_type": "code",
   "execution_count": 208,
   "metadata": {},
   "outputs": [
    {
     "data": {
      "text/html": [
       "<div>\n",
       "<style scoped>\n",
       "    .dataframe tbody tr th:only-of-type {\n",
       "        vertical-align: middle;\n",
       "    }\n",
       "\n",
       "    .dataframe tbody tr th {\n",
       "        vertical-align: top;\n",
       "    }\n",
       "\n",
       "    .dataframe thead th {\n",
       "        text-align: right;\n",
       "    }\n",
       "</style>\n",
       "<table border=\"1\" class=\"dataframe\">\n",
       "  <thead>\n",
       "    <tr style=\"text-align: right;\">\n",
       "      <th>symbol</th>\n",
       "      <th>MCS</th>\n",
       "      <th>AEO</th>\n",
       "      <th>YORW</th>\n",
       "      <th>UPLD</th>\n",
       "      <th>FBC</th>\n",
       "      <th>WWW</th>\n",
       "      <th>VBTX</th>\n",
       "      <th>GABC</th>\n",
       "      <th>ACAD</th>\n",
       "      <th>IBOC</th>\n",
       "    </tr>\n",
       "    <tr>\n",
       "      <th>date</th>\n",
       "      <th></th>\n",
       "      <th></th>\n",
       "      <th></th>\n",
       "      <th></th>\n",
       "      <th></th>\n",
       "      <th></th>\n",
       "      <th></th>\n",
       "      <th></th>\n",
       "      <th></th>\n",
       "      <th></th>\n",
       "    </tr>\n",
       "  </thead>\n",
       "  <tbody>\n",
       "    <tr>\n",
       "      <th>2015-01-31</th>\n",
       "      <td>0.018909</td>\n",
       "      <td>0.011527</td>\n",
       "      <td>0.019819</td>\n",
       "      <td>-0.169456</td>\n",
       "      <td>-0.096631</td>\n",
       "      <td>-0.044791</td>\n",
       "      <td>-0.071983</td>\n",
       "      <td>-0.082569</td>\n",
       "      <td>-0.041575</td>\n",
       "      <td>-0.151846</td>\n",
       "    </tr>\n",
       "    <tr>\n",
       "      <th>2015-02-28</th>\n",
       "      <td>0.033404</td>\n",
       "      <td>0.066239</td>\n",
       "      <td>0.000000</td>\n",
       "      <td>-0.112091</td>\n",
       "      <td>0.040816</td>\n",
       "      <td>0.085613</td>\n",
       "      <td>0.073004</td>\n",
       "      <td>0.025355</td>\n",
       "      <td>0.247782</td>\n",
       "      <td>0.099956</td>\n",
       "    </tr>\n",
       "    <tr>\n",
       "      <th>2015-03-31</th>\n",
       "      <td>0.092355</td>\n",
       "      <td>0.140949</td>\n",
       "      <td>0.025771</td>\n",
       "      <td>-0.005674</td>\n",
       "      <td>-0.018932</td>\n",
       "      <td>0.094568</td>\n",
       "      <td>-0.009922</td>\n",
       "      <td>0.025078</td>\n",
       "      <td>-0.141691</td>\n",
       "      <td>0.051292</td>\n",
       "    </tr>\n",
       "    <tr>\n",
       "      <th>2015-04-30</th>\n",
       "      <td>-0.090183</td>\n",
       "      <td>-0.068501</td>\n",
       "      <td>0.036244</td>\n",
       "      <td>-0.121255</td>\n",
       "      <td>0.184011</td>\n",
       "      <td>-0.081315</td>\n",
       "      <td>0.037223</td>\n",
       "      <td>-0.027864</td>\n",
       "      <td>0.048481</td>\n",
       "      <td>-0.001921</td>\n",
       "    </tr>\n",
       "    <tr>\n",
       "      <th>2015-05-31</th>\n",
       "      <td>0.011874</td>\n",
       "      <td>0.028913</td>\n",
       "      <td>-0.111288</td>\n",
       "      <td>0.237013</td>\n",
       "      <td>0.090803</td>\n",
       "      <td>-0.043931</td>\n",
       "      <td>-0.033816</td>\n",
       "      <td>0.014334</td>\n",
       "      <td>0.205736</td>\n",
       "      <td>0.004619</td>\n",
       "    </tr>\n",
       "    <tr>\n",
       "      <th>...</th>\n",
       "      <td>...</td>\n",
       "      <td>...</td>\n",
       "      <td>...</td>\n",
       "      <td>...</td>\n",
       "      <td>...</td>\n",
       "      <td>...</td>\n",
       "      <td>...</td>\n",
       "      <td>...</td>\n",
       "      <td>...</td>\n",
       "      <td>...</td>\n",
       "    </tr>\n",
       "    <tr>\n",
       "      <th>2021-07-31</th>\n",
       "      <td>-0.242339</td>\n",
       "      <td>-0.081535</td>\n",
       "      <td>0.065342</td>\n",
       "      <td>-0.125577</td>\n",
       "      <td>0.082564</td>\n",
       "      <td>-0.002973</td>\n",
       "      <td>-0.052528</td>\n",
       "      <td>0.013441</td>\n",
       "      <td>-0.113161</td>\n",
       "      <td>-0.089893</td>\n",
       "    </tr>\n",
       "    <tr>\n",
       "      <th>2021-08-31</th>\n",
       "      <td>-0.029247</td>\n",
       "      <td>-0.114592</td>\n",
       "      <td>0.068587</td>\n",
       "      <td>0.082778</td>\n",
       "      <td>0.080857</td>\n",
       "      <td>0.069171</td>\n",
       "      <td>0.070939</td>\n",
       "      <td>-0.009019</td>\n",
       "      <td>-0.190476</td>\n",
       "      <td>0.071648</td>\n",
       "    </tr>\n",
       "    <tr>\n",
       "      <th>2021-09-30</th>\n",
       "      <td>0.118590</td>\n",
       "      <td>-0.154653</td>\n",
       "      <td>-0.152996</td>\n",
       "      <td>-0.142124</td>\n",
       "      <td>0.026688</td>\n",
       "      <td>-0.167875</td>\n",
       "      <td>0.095463</td>\n",
       "      <td>0.033994</td>\n",
       "      <td>-0.051399</td>\n",
       "      <td>-0.005731</td>\n",
       "    </tr>\n",
       "    <tr>\n",
       "      <th>2021-10-31</th>\n",
       "      <td>0.064183</td>\n",
       "      <td>-0.079845</td>\n",
       "      <td>0.097070</td>\n",
       "      <td>-0.002093</td>\n",
       "      <td>-0.070697</td>\n",
       "      <td>0.111595</td>\n",
       "      <td>0.040396</td>\n",
       "      <td>0.020450</td>\n",
       "      <td>0.080674</td>\n",
       "      <td>0.018252</td>\n",
       "    </tr>\n",
       "    <tr>\n",
       "      <th>2021-11-30</th>\n",
       "      <td>-0.059235</td>\n",
       "      <td>0.090564</td>\n",
       "      <td>-0.022120</td>\n",
       "      <td>-0.413245</td>\n",
       "      <td>-0.013774</td>\n",
       "      <td>-0.061501</td>\n",
       "      <td>-0.032234</td>\n",
       "      <td>-0.007357</td>\n",
       "      <td>0.069638</td>\n",
       "      <td>-0.009198</td>\n",
       "    </tr>\n",
       "  </tbody>\n",
       "</table>\n",
       "<p>83 rows × 10 columns</p>\n",
       "</div>"
      ],
      "text/plain": [
       "symbol           MCS       AEO      YORW      UPLD       FBC       WWW  \\\n",
       "date                                                                     \n",
       "2015-01-31  0.018909  0.011527  0.019819 -0.169456 -0.096631 -0.044791   \n",
       "2015-02-28  0.033404  0.066239  0.000000 -0.112091  0.040816  0.085613   \n",
       "2015-03-31  0.092355  0.140949  0.025771 -0.005674 -0.018932  0.094568   \n",
       "2015-04-30 -0.090183 -0.068501  0.036244 -0.121255  0.184011 -0.081315   \n",
       "2015-05-31  0.011874  0.028913 -0.111288  0.237013  0.090803 -0.043931   \n",
       "...              ...       ...       ...       ...       ...       ...   \n",
       "2021-07-31 -0.242339 -0.081535  0.065342 -0.125577  0.082564 -0.002973   \n",
       "2021-08-31 -0.029247 -0.114592  0.068587  0.082778  0.080857  0.069171   \n",
       "2021-09-30  0.118590 -0.154653 -0.152996 -0.142124  0.026688 -0.167875   \n",
       "2021-10-31  0.064183 -0.079845  0.097070 -0.002093 -0.070697  0.111595   \n",
       "2021-11-30 -0.059235  0.090564 -0.022120 -0.413245 -0.013774 -0.061501   \n",
       "\n",
       "symbol          VBTX      GABC      ACAD      IBOC  \n",
       "date                                                \n",
       "2015-01-31 -0.071983 -0.082569 -0.041575 -0.151846  \n",
       "2015-02-28  0.073004  0.025355  0.247782  0.099956  \n",
       "2015-03-31 -0.009922  0.025078 -0.141691  0.051292  \n",
       "2015-04-30  0.037223 -0.027864  0.048481 -0.001921  \n",
       "2015-05-31 -0.033816  0.014334  0.205736  0.004619  \n",
       "...              ...       ...       ...       ...  \n",
       "2021-07-31 -0.052528  0.013441 -0.113161 -0.089893  \n",
       "2021-08-31  0.070939 -0.009019 -0.190476  0.071648  \n",
       "2021-09-30  0.095463  0.033994 -0.051399 -0.005731  \n",
       "2021-10-31  0.040396  0.020450  0.080674  0.018252  \n",
       "2021-11-30 -0.032234 -0.007357  0.069638 -0.009198  \n",
       "\n",
       "[83 rows x 10 columns]"
      ]
     },
     "execution_count": 208,
     "metadata": {},
     "output_type": "execute_result"
    }
   ],
   "source": [
    "sample"
   ]
  },
  {
   "cell_type": "markdown",
   "metadata": {},
   "source": [
    "Create variance:"
   ]
  },
  {
   "cell_type": "code",
   "execution_count": 209,
   "metadata": {},
   "outputs": [],
   "source": [
    "SampleVar = sample.var()"
   ]
  },
  {
   "cell_type": "markdown",
   "metadata": {},
   "source": [
    "## Applying Kelly Formula with continuous approximation:"
   ]
  },
  {
   "cell_type": "markdown",
   "metadata": {},
   "source": [
    "For a variable where $E(X) = m$ and $Var(X) = s^2$. With initial capital $V_{0}$ betting fraction $f$, and return per unit of X, the result is:"
   ]
  },
  {
   "cell_type": "markdown",
   "metadata": {},
   "source": [
    "$ V(f) = V_{0}(1 + (1-f)r+fX)= V_{0} (1+r+f(X-r))$, where r is the rate of retrun on the remaining capital. Then:"
   ]
  },
  {
   "cell_type": "markdown",
   "metadata": {},
   "source": [
    "$ g(f) = E(G(f)) = E(ln(V(f)/V_{0}))= E (ln(1+r+f(X-r))) = 0.5ln(1+r+f(m-r+s))+0.5ln(1+r+f(m-r-s))$"
   ]
  },
  {
   "cell_type": "markdown",
   "metadata": {},
   "source": [
    "Now subdivide the time interval into n equal independent steps, keeping the same drift and the same total variance. So $m$, $s^2$, and $r$ are replaced by $m/n$, $s^2/n$ and $r/n$. We have $n$ independent $X_{i} , i=1,...,n$ where the probability of both negative and positive outcomes about the mean is even, then:"
   ]
  },
  {
   "cell_type": "markdown",
   "metadata": {},
   "source": [
    "$V_{n}(f)/V_{0} = \\prod\\limits_{i=1}^{n} (1+(1-f)r+fX_{i})$ and taking $E(log())$ of both sides will give $g(f)$. Expanding this to a power series will lead to a simplification (when bounded to infinity) of: $g_{\\infty}(f) \\equiv r + f(m-r) - s^2 f^2/2$"
   ]
  },
  {
   "cell_type": "markdown",
   "metadata": {},
   "source": [
    "Plugging in the computed mean and variance for the ticker BHLB:"
   ]
  },
  {
   "cell_type": "code",
   "execution_count": 235,
   "metadata": {},
   "outputs": [],
   "source": [
    "# Change to ticker in sample\n",
    "m = sample['MCS'].mean()\n",
    "v = SampleVar['MCS']"
   ]
  },
  {
   "cell_type": "code",
   "execution_count": 236,
   "metadata": {},
   "outputs": [
    {
     "data": {
      "image/png": "[encoded data removed]",
      "text/plain": [
       "<Figure size 540x252 with 1 Axes>"
      ]
     },
     "metadata": {
      "needs_background": "light"
     },
     "output_type": "display_data"
    }
   ],
   "source": [
    "# 100 linearly spaced numbers\n",
    "x = np.linspace(-0.5,1.25,100)\n",
    "\n",
    "plt.rcParams[\"figure.figsize\"] = [7.50, 3.50]\n",
    "plt.rcParams[\"figure.autolayout\"] = True\n",
    "\n",
    "r=0 # set riskfree to 0, not very important for this example\n",
    "\n",
    "def g(x):\n",
    "    return r + x*(m-r) - (v)*(x**2)/2\n",
    "\n",
    "plt.plot(x, g(x), color='red')\n",
    "\n",
    "plt.show()\n"
   ]
  },
  {
   "cell_type": "code",
   "execution_count": 237,
   "metadata": {},
   "outputs": [
    {
     "data": {
      "text/plain": [
       "0.5260621571564725"
      ]
     },
     "execution_count": 237,
     "metadata": {},
     "output_type": "execute_result"
    }
   ],
   "source": [
    "m/v"
   ]
  },
  {
   "cell_type": "markdown",
   "metadata": {},
   "source": [
    "Here we can see the formula is a parabola, meaning maximizing the growth rate is a very simple solution, just taking the derivative and finding the maximum, which very simply becomes $f = mean/variance$, which is ~ 0.52 in this case.  "
   ]
  },
  {
   "cell_type": "markdown",
   "metadata": {},
   "source": [
    "## Kelly for a Portfolio of Securities"
   ]
  },
  {
   "cell_type": "markdown",
   "metadata": {},
   "source": [
    "Now moving into a balanced portfolio fraction $f_{0}$ and n risky assets with portfolio fraction $f _{1} ,...,f_{n}$, with the same descriptive varaibles as before.  If $\\Sigma=(s_{i,j}$) with $i , j  = 1, 2,..., n$ is the variance-covariance matrix and $M = (m_{1},m_{2},...,m_{n})^T$ is the row vector of the expected returns for the n assets."
   ]
  },
  {
   "cell_type": "markdown",
   "metadata": {},
   "source": [
    "The expression of the prortfolio's capital after one time step:\n",
    "  $ f_{0}r+\\sum\\limits_{i=1}^{n} f_{i} m_{i}$ where they are the fractions and returns on the ith asset. In matrix form it looks like: $r + F^T(M-R)$ where R is the column vector $(r,r,...,r)^T$ of length $n$. And we also have $s^2=F^TCF$. We have arrived at a similar quadratic maximization problem."
   ]
  },
  {
   "cell_type": "markdown",
   "metadata": {},
   "source": [
    "Interestingly, using this and solving the simultaneous equations of $\\nabla g_{\\infty}/\\nabla f_{i} = 0, i = 1,...,n$ you get the solution of $F^* = \\Sigma^{-1}[M-R]$. Which, if all securities are uncorrelated, $\\Sigma$ will be diagonal and we will have the quadratic maximization solution for all the securities of $f_{i} = (m_{i}-r)/s_{i}^2$ (which if risk-free rate is zero will just be mean/variance)."
   ]
  },
  {
   "cell_type": "code",
   "execution_count": 213,
   "metadata": {},
   "outputs": [],
   "source": [
    "# Using the sample variance from before\n",
    "SampleMean = sample.mean()\n",
    "UnCorrK = SampleMean/SampleVar"
   ]
  },
  {
   "cell_type": "code",
   "execution_count": 214,
   "metadata": {},
   "outputs": [
    {
     "name": "stdout",
     "output_type": "stream",
     "text": [
      "symbol\n",
      "MCS     0.526062\n",
      "AEO     1.115740\n",
      "YORW    2.251564\n",
      "UPLD    1.030264\n",
      "FBC     2.184913\n",
      "WWW     0.590159\n",
      "VBTX    1.781790\n",
      "GABC    2.249621\n",
      "ACAD    0.298528\n",
      "IBOC    1.278133\n",
      "dtype: float64\n"
     ]
    }
   ],
   "source": [
    "print(UnCorrK)"
   ]
  },
  {
   "cell_type": "markdown",
   "metadata": {},
   "source": [
    "Note that the Kelly solution here provides negative solutions as well as ones that are greater than 1 (or less than -1). Negative would mean you would be shorting those positions, and greater than 1 would mean taking leverage on the positions. "
   ]
  },
  {
   "cell_type": "markdown",
   "metadata": {},
   "source": [
    "## Kelly with Correlation"
   ]
  },
  {
   "cell_type": "markdown",
   "metadata": {},
   "source": [
    "Recall the unconstraied correlated solution (with 0 risk free rate) is given by: $F = \\hat{\\Sigma} ^{-1} \\hat{m}$ where $\\hat{\\Sigma}$ and $\\hat{r}$ are the estimations of variance-covariance matrix and returns. Note that $\\hat{\\Sigma} ^{-1}$ is the inverse of the cov-var matrix, which is known as the precision matrix or the concentration matrix. This introduces the contsratin that ${\\Sigma} ^{-1}$ must exist, which means the determinant of ${\\Sigma}$ must not be 0. "
   ]
  },
  {
   "cell_type": "markdown",
   "metadata": {},
   "source": [
    "So we have to compute the var-cov matrix:"
   ]
  },
  {
   "cell_type": "code",
   "execution_count": 215,
   "metadata": {
    "ExecuteTime": {
     "end_time": "2021-04-15T19:51:05.196648Z",
     "start_time": "2021-04-15T19:51:05.186196Z"
    }
   },
   "outputs": [],
   "source": [
    "cov = sample.cov()"
   ]
  },
  {
   "cell_type": "code",
   "execution_count": 216,
   "metadata": {},
   "outputs": [
    {
     "data": {
      "text/html": [
       "<style  type=\"text/css\" >\n",
       "#T_74f34_row0_col0,#T_74f34_row1_col1,#T_74f34_row2_col2,#T_74f34_row3_col3,#T_74f34_row4_col4,#T_74f34_row5_col5,#T_74f34_row6_col6,#T_74f34_row7_col7,#T_74f34_row8_col8,#T_74f34_row9_col9{\n",
       "            background-color:  #b40426;\n",
       "            color:  #f1f1f1;\n",
       "        }#T_74f34_row0_col1{\n",
       "            background-color:  #d9dce1;\n",
       "            color:  #000000;\n",
       "        }#T_74f34_row0_col2,#T_74f34_row9_col1{\n",
       "            background-color:  #9abbff;\n",
       "            color:  #000000;\n",
       "        }#T_74f34_row0_col3{\n",
       "            background-color:  #96b7ff;\n",
       "            color:  #000000;\n",
       "        }#T_74f34_row0_col4{\n",
       "            background-color:  #f7af91;\n",
       "            color:  #000000;\n",
       "        }#T_74f34_row0_col5{\n",
       "            background-color:  #c3d5f4;\n",
       "            color:  #000000;\n",
       "        }#T_74f34_row0_col6{\n",
       "            background-color:  #f6bda2;\n",
       "            color:  #000000;\n",
       "        }#T_74f34_row0_col7{\n",
       "            background-color:  #f1cdba;\n",
       "            color:  #000000;\n",
       "        }#T_74f34_row0_col8{\n",
       "            background-color:  #536edd;\n",
       "            color:  #000000;\n",
       "        }#T_74f34_row0_col9{\n",
       "            background-color:  #ec7f63;\n",
       "            color:  #000000;\n",
       "        }#T_74f34_row1_col0{\n",
       "            background-color:  #a2c1ff;\n",
       "            color:  #000000;\n",
       "        }#T_74f34_row1_col2{\n",
       "            background-color:  #7295f4;\n",
       "            color:  #000000;\n",
       "        }#T_74f34_row1_col3{\n",
       "            background-color:  #6f92f3;\n",
       "            color:  #000000;\n",
       "        }#T_74f34_row1_col4{\n",
       "            background-color:  #cedaeb;\n",
       "            color:  #000000;\n",
       "        }#T_74f34_row1_col5,#T_74f34_row9_col6{\n",
       "            background-color:  #dfdbd9;\n",
       "            color:  #000000;\n",
       "        }#T_74f34_row1_col6,#T_74f34_row3_col4{\n",
       "            background-color:  #98b9ff;\n",
       "            color:  #000000;\n",
       "        }#T_74f34_row1_col7,#T_74f34_row4_col0,#T_74f34_row7_col4{\n",
       "            background-color:  #97b8ff;\n",
       "            color:  #000000;\n",
       "        }#T_74f34_row1_col8,#T_74f34_row3_col7{\n",
       "            background-color:  #485fd1;\n",
       "            color:  #f1f1f1;\n",
       "        }#T_74f34_row1_col9{\n",
       "            background-color:  #bad0f8;\n",
       "            color:  #000000;\n",
       "        }#T_74f34_row2_col0,#T_74f34_row2_col1,#T_74f34_row2_col3,#T_74f34_row2_col4,#T_74f34_row2_col5,#T_74f34_row2_col6,#T_74f34_row2_col8,#T_74f34_row2_col9,#T_74f34_row3_col2,#T_74f34_row8_col7{\n",
       "            background-color:  #3b4cc0;\n",
       "            color:  #f1f1f1;\n",
       "        }#T_74f34_row2_col7{\n",
       "            background-color:  #6e90f2;\n",
       "            color:  #000000;\n",
       "        }#T_74f34_row3_col0{\n",
       "            background-color:  #7597f6;\n",
       "            color:  #000000;\n",
       "        }#T_74f34_row3_col1,#T_74f34_row3_col9{\n",
       "            background-color:  #6c8ff1;\n",
       "            color:  #000000;\n",
       "        }#T_74f34_row3_col5{\n",
       "            background-color:  #adc9fd;\n",
       "            color:  #000000;\n",
       "        }#T_74f34_row3_col6,#T_74f34_row5_col0{\n",
       "            background-color:  #8caffe;\n",
       "            color:  #000000;\n",
       "        }#T_74f34_row3_col8{\n",
       "            background-color:  #4e68d8;\n",
       "            color:  #000000;\n",
       "        }#T_74f34_row4_col1{\n",
       "            background-color:  #9dbdff;\n",
       "            color:  #000000;\n",
       "        }#T_74f34_row4_col2{\n",
       "            background-color:  #88abfd;\n",
       "            color:  #000000;\n",
       "        }#T_74f34_row4_col3{\n",
       "            background-color:  #7a9df8;\n",
       "            color:  #000000;\n",
       "        }#T_74f34_row4_col5{\n",
       "            background-color:  #b7cff9;\n",
       "            color:  #000000;\n",
       "        }#T_74f34_row4_col6,#T_74f34_row5_col6{\n",
       "            background-color:  #e0dbd8;\n",
       "            color:  #000000;\n",
       "        }#T_74f34_row4_col7,#T_74f34_row6_col5{\n",
       "            background-color:  #d1dae9;\n",
       "            color:  #000000;\n",
       "        }#T_74f34_row4_col8{\n",
       "            background-color:  #6a8bef;\n",
       "            color:  #000000;\n",
       "        }#T_74f34_row4_col9{\n",
       "            background-color:  #e6d7cf;\n",
       "            color:  #000000;\n",
       "        }#T_74f34_row5_col1{\n",
       "            background-color:  #d7dce3;\n",
       "            color:  #000000;\n",
       "        }#T_74f34_row5_col2{\n",
       "            background-color:  #a7c5fe;\n",
       "            color:  #000000;\n",
       "        }#T_74f34_row5_col3{\n",
       "            background-color:  #9ebeff;\n",
       "            color:  #000000;\n",
       "        }#T_74f34_row5_col4{\n",
       "            background-color:  #edd2c3;\n",
       "            color:  #000000;\n",
       "        }#T_74f34_row5_col7{\n",
       "            background-color:  #ecd3c5;\n",
       "            color:  #000000;\n",
       "        }#T_74f34_row5_col8{\n",
       "            background-color:  #4b64d5;\n",
       "            color:  #f1f1f1;\n",
       "        }#T_74f34_row5_col9{\n",
       "            background-color:  #dcdddd;\n",
       "            color:  #000000;\n",
       "        }#T_74f34_row6_col0{\n",
       "            background-color:  #aec9fc;\n",
       "            color:  #000000;\n",
       "        }#T_74f34_row6_col1{\n",
       "            background-color:  #94b6ff;\n",
       "            color:  #000000;\n",
       "        }#T_74f34_row6_col2{\n",
       "            background-color:  #a3c2fe;\n",
       "            color:  #000000;\n",
       "        }#T_74f34_row6_col3{\n",
       "            background-color:  #85a8fc;\n",
       "            color:  #000000;\n",
       "        }#T_74f34_row6_col4{\n",
       "            background-color:  #f7b396;\n",
       "            color:  #000000;\n",
       "        }#T_74f34_row6_col7{\n",
       "            background-color:  #e36b54;\n",
       "            color:  #000000;\n",
       "        }#T_74f34_row6_col8,#T_74f34_row7_col1{\n",
       "            background-color:  #688aef;\n",
       "            color:  #000000;\n",
       "        }#T_74f34_row6_col9{\n",
       "            background-color:  #f7a688;\n",
       "            color:  #000000;\n",
       "        }#T_74f34_row7_col0{\n",
       "            background-color:  #6384eb;\n",
       "            color:  #000000;\n",
       "        }#T_74f34_row7_col2,#T_74f34_row9_col2{\n",
       "            background-color:  #c9d7f0;\n",
       "            color:  #000000;\n",
       "        }#T_74f34_row7_col3{\n",
       "            background-color:  #5e7de7;\n",
       "            color:  #000000;\n",
       "        }#T_74f34_row7_col5{\n",
       "            background-color:  #799cf8;\n",
       "            color:  #000000;\n",
       "        }#T_74f34_row7_col6{\n",
       "            background-color:  #a9c6fd;\n",
       "            color:  #000000;\n",
       "        }#T_74f34_row7_col8,#T_74f34_row8_col5{\n",
       "            background-color:  #465ecf;\n",
       "            color:  #f1f1f1;\n",
       "        }#T_74f34_row7_col9{\n",
       "            background-color:  #d8dce2;\n",
       "            color:  #000000;\n",
       "        }#T_74f34_row8_col0{\n",
       "            background-color:  #516ddb;\n",
       "            color:  #000000;\n",
       "        }#T_74f34_row8_col1{\n",
       "            background-color:  #506bda;\n",
       "            color:  #000000;\n",
       "        }#T_74f34_row8_col2{\n",
       "            background-color:  #5875e1;\n",
       "            color:  #000000;\n",
       "        }#T_74f34_row8_col3{\n",
       "            background-color:  #6788ee;\n",
       "            color:  #000000;\n",
       "        }#T_74f34_row8_col4{\n",
       "            background-color:  #e2dad5;\n",
       "            color:  #000000;\n",
       "        }#T_74f34_row8_col6{\n",
       "            background-color:  #b5cdfa;\n",
       "            color:  #000000;\n",
       "        }#T_74f34_row8_col9{\n",
       "            background-color:  #cbd8ee;\n",
       "            color:  #000000;\n",
       "        }#T_74f34_row9_col0{\n",
       "            background-color:  #9fbfff;\n",
       "            color:  #000000;\n",
       "        }#T_74f34_row9_col3{\n",
       "            background-color:  #7699f6;\n",
       "            color:  #000000;\n",
       "        }#T_74f34_row9_col4{\n",
       "            background-color:  #e8d6cc;\n",
       "            color:  #000000;\n",
       "        }#T_74f34_row9_col5{\n",
       "            background-color:  #aac7fd;\n",
       "            color:  #000000;\n",
       "        }#T_74f34_row9_col7{\n",
       "            background-color:  #c53334;\n",
       "            color:  #f1f1f1;\n",
       "        }#T_74f34_row9_col8{\n",
       "            background-color:  #6687ed;\n",
       "            color:  #000000;\n",
       "        }</style><table id=\"T_74f34_\" ><thead>    <tr>        <th class=\"index_name level0\" >symbol</th>        <th class=\"col_heading level0 col0\" >MCS</th>        <th class=\"col_heading level0 col1\" >AEO</th>        <th class=\"col_heading level0 col2\" >YORW</th>        <th class=\"col_heading level0 col3\" >UPLD</th>        <th class=\"col_heading level0 col4\" >FBC</th>        <th class=\"col_heading level0 col5\" >WWW</th>        <th class=\"col_heading level0 col6\" >VBTX</th>        <th class=\"col_heading level0 col7\" >GABC</th>        <th class=\"col_heading level0 col8\" >ACAD</th>        <th class=\"col_heading level0 col9\" >IBOC</th>    </tr>    <tr>        <th class=\"index_name level0\" >symbol</th>        <th class=\"blank\" ></th>        <th class=\"blank\" ></th>        <th class=\"blank\" ></th>        <th class=\"blank\" ></th>        <th class=\"blank\" ></th>        <th class=\"blank\" ></th>        <th class=\"blank\" ></th>        <th class=\"blank\" ></th>        <th class=\"blank\" ></th>        <th class=\"blank\" ></th>    </tr></thead><tbody>\n",
       "                <tr>\n",
       "                        <th id=\"T_74f34_level0_row0\" class=\"row_heading level0 row0\" >MCS</th>\n",
       "                        <td id=\"T_74f34_row0_col0\" class=\"data row0 col0\" >0.017936</td>\n",
       "                        <td id=\"T_74f34_row0_col1\" class=\"data row0 col1\" >0.006208</td>\n",
       "                        <td id=\"T_74f34_row0_col2\" class=\"data row0 col2\" >0.000905</td>\n",
       "                        <td id=\"T_74f34_row0_col3\" class=\"data row0 col3\" >0.004024</td>\n",
       "                        <td id=\"T_74f34_row0_col4\" class=\"data row0 col4\" >0.005682</td>\n",
       "                        <td id=\"T_74f34_row0_col5\" class=\"data row0 col5\" >0.005121</td>\n",
       "                        <td id=\"T_74f34_row0_col6\" class=\"data row0 col6\" >0.006813</td>\n",
       "                        <td id=\"T_74f34_row0_col7\" class=\"data row0 col7\" >0.003112</td>\n",
       "                        <td id=\"T_74f34_row0_col8\" class=\"data row0 col8\" >0.002233</td>\n",
       "                        <td id=\"T_74f34_row0_col9\" class=\"data row0 col9\" >0.006093</td>\n",
       "            </tr>\n",
       "            <tr>\n",
       "                        <th id=\"T_74f34_level0_row1\" class=\"row_heading level0 row1\" >AEO</th>\n",
       "                        <td id=\"T_74f34_row1_col0\" class=\"data row1 col0\" >0.006208</td>\n",
       "                        <td id=\"T_74f34_row1_col1\" class=\"data row1 col1\" >0.012432</td>\n",
       "                        <td id=\"T_74f34_row1_col2\" class=\"data row1 col2\" >0.000290</td>\n",
       "                        <td id=\"T_74f34_row1_col3\" class=\"data row1 col3\" >0.002191</td>\n",
       "                        <td id=\"T_74f34_row1_col4\" class=\"data row1 col4\" >0.003884</td>\n",
       "                        <td id=\"T_74f34_row1_col5\" class=\"data row1 col5\" >0.006108</td>\n",
       "                        <td id=\"T_74f34_row1_col6\" class=\"data row1 col6\" >0.003569</td>\n",
       "                        <td id=\"T_74f34_row1_col7\" class=\"data row1 col7\" >0.002074</td>\n",
       "                        <td id=\"T_74f34_row1_col8\" class=\"data row1 col8\" >0.001175</td>\n",
       "                        <td id=\"T_74f34_row1_col9\" class=\"data row1 col9\" >0.003762</td>\n",
       "            </tr>\n",
       "            <tr>\n",
       "                        <th id=\"T_74f34_level0_row2\" class=\"row_heading level0 row2\" >YORW</th>\n",
       "                        <td id=\"T_74f34_row2_col0\" class=\"data row2 col0\" >0.000905</td>\n",
       "                        <td id=\"T_74f34_row2_col1\" class=\"data row2 col1\" >0.000290</td>\n",
       "                        <td id=\"T_74f34_row2_col2\" class=\"data row2 col2\" >0.004824</td>\n",
       "                        <td id=\"T_74f34_row2_col3\" class=\"data row2 col3\" >-0.000662</td>\n",
       "                        <td id=\"T_74f34_row2_col4\" class=\"data row2 col4\" >0.000638</td>\n",
       "                        <td id=\"T_74f34_row2_col5\" class=\"data row2 col5\" >0.001133</td>\n",
       "                        <td id=\"T_74f34_row2_col6\" class=\"data row2 col6\" >0.001067</td>\n",
       "                        <td id=\"T_74f34_row2_col7\" class=\"data row2 col7\" >0.001677</td>\n",
       "                        <td id=\"T_74f34_row2_col8\" class=\"data row2 col8\" >-0.000136</td>\n",
       "                        <td id=\"T_74f34_row2_col9\" class=\"data row2 col9\" >0.001683</td>\n",
       "            </tr>\n",
       "            <tr>\n",
       "                        <th id=\"T_74f34_level0_row3\" class=\"row_heading level0 row3\" >UPLD</th>\n",
       "                        <td id=\"T_74f34_row3_col0\" class=\"data row3 col0\" >0.004024</td>\n",
       "                        <td id=\"T_74f34_row3_col1\" class=\"data row3 col1\" >0.002191</td>\n",
       "                        <td id=\"T_74f34_row3_col2\" class=\"data row3 col2\" >-0.000662</td>\n",
       "                        <td id=\"T_74f34_row3_col3\" class=\"data row3 col3\" >0.016467</td>\n",
       "                        <td id=\"T_74f34_row3_col4\" class=\"data row3 col4\" >0.002709</td>\n",
       "                        <td id=\"T_74f34_row3_col5\" class=\"data row3 col5\" >0.004460</td>\n",
       "                        <td id=\"T_74f34_row3_col6\" class=\"data row3 col6\" >0.003247</td>\n",
       "                        <td id=\"T_74f34_row3_col7\" class=\"data row3 col7\" >0.001291</td>\n",
       "                        <td id=\"T_74f34_row3_col8\" class=\"data row3 col8\" >0.001802</td>\n",
       "                        <td id=\"T_74f34_row3_col9\" class=\"data row3 col9\" >0.002542</td>\n",
       "            </tr>\n",
       "            <tr>\n",
       "                        <th id=\"T_74f34_level0_row4\" class=\"row_heading level0 row4\" >FBC</th>\n",
       "                        <td id=\"T_74f34_row4_col0\" class=\"data row4 col0\" >0.005682</td>\n",
       "                        <td id=\"T_74f34_row4_col1\" class=\"data row4 col1\" >0.003884</td>\n",
       "                        <td id=\"T_74f34_row4_col2\" class=\"data row4 col2\" >0.000638</td>\n",
       "                        <td id=\"T_74f34_row4_col3\" class=\"data row4 col3\" >0.002709</td>\n",
       "                        <td id=\"T_74f34_row4_col4\" class=\"data row4 col4\" >0.007915</td>\n",
       "                        <td id=\"T_74f34_row4_col5\" class=\"data row4 col5\" >0.004783</td>\n",
       "                        <td id=\"T_74f34_row4_col6\" class=\"data row4 col6\" >0.005604</td>\n",
       "                        <td id=\"T_74f34_row4_col7\" class=\"data row4 col7\" >0.002660</td>\n",
       "                        <td id=\"T_74f34_row4_col8\" class=\"data row4 col8\" >0.004424</td>\n",
       "                        <td id=\"T_74f34_row4_col9\" class=\"data row4 col9\" >0.004605</td>\n",
       "            </tr>\n",
       "            <tr>\n",
       "                        <th id=\"T_74f34_level0_row5\" class=\"row_heading level0 row5\" >WWW</th>\n",
       "                        <td id=\"T_74f34_row5_col0\" class=\"data row5 col0\" >0.005121</td>\n",
       "                        <td id=\"T_74f34_row5_col1\" class=\"data row5 col1\" >0.006108</td>\n",
       "                        <td id=\"T_74f34_row5_col2\" class=\"data row5 col2\" >0.001133</td>\n",
       "                        <td id=\"T_74f34_row5_col3\" class=\"data row5 col3\" >0.004460</td>\n",
       "                        <td id=\"T_74f34_row5_col4\" class=\"data row5 col4\" >0.004783</td>\n",
       "                        <td id=\"T_74f34_row5_col5\" class=\"data row5 col5\" >0.010901</td>\n",
       "                        <td id=\"T_74f34_row5_col6\" class=\"data row5 col6\" >0.005585</td>\n",
       "                        <td id=\"T_74f34_row5_col7\" class=\"data row5 col7\" >0.003023</td>\n",
       "                        <td id=\"T_74f34_row5_col8\" class=\"data row5 col8\" >0.001544</td>\n",
       "                        <td id=\"T_74f34_row5_col9\" class=\"data row5 col9\" >0.004392</td>\n",
       "            </tr>\n",
       "            <tr>\n",
       "                        <th id=\"T_74f34_level0_row6\" class=\"row_heading level0 row6\" >VBTX</th>\n",
       "                        <td id=\"T_74f34_row6_col0\" class=\"data row6 col0\" >0.006813</td>\n",
       "                        <td id=\"T_74f34_row6_col1\" class=\"data row6 col1\" >0.003569</td>\n",
       "                        <td id=\"T_74f34_row6_col2\" class=\"data row6 col2\" >0.001067</td>\n",
       "                        <td id=\"T_74f34_row6_col3\" class=\"data row6 col3\" >0.003247</td>\n",
       "                        <td id=\"T_74f34_row6_col4\" class=\"data row6 col4\" >0.005604</td>\n",
       "                        <td id=\"T_74f34_row6_col5\" class=\"data row6 col5\" >0.005585</td>\n",
       "                        <td id=\"T_74f34_row6_col6\" class=\"data row6 col6\" >0.009886</td>\n",
       "                        <td id=\"T_74f34_row6_col7\" class=\"data row6 col7\" >0.003984</td>\n",
       "                        <td id=\"T_74f34_row6_col8\" class=\"data row6 col8\" >0.004292</td>\n",
       "                        <td id=\"T_74f34_row6_col9\" class=\"data row6 col9\" >0.005575</td>\n",
       "            </tr>\n",
       "            <tr>\n",
       "                        <th id=\"T_74f34_level0_row7\" class=\"row_heading level0 row7\" >GABC</th>\n",
       "                        <td id=\"T_74f34_row7_col0\" class=\"data row7 col0\" >0.003112</td>\n",
       "                        <td id=\"T_74f34_row7_col1\" class=\"data row7 col1\" >0.002074</td>\n",
       "                        <td id=\"T_74f34_row7_col2\" class=\"data row7 col2\" >0.001677</td>\n",
       "                        <td id=\"T_74f34_row7_col3\" class=\"data row7 col3\" >0.001291</td>\n",
       "                        <td id=\"T_74f34_row7_col4\" class=\"data row7 col4\" >0.002660</td>\n",
       "                        <td id=\"T_74f34_row7_col5\" class=\"data row7 col5\" >0.003023</td>\n",
       "                        <td id=\"T_74f34_row7_col6\" class=\"data row7 col6\" >0.003984</td>\n",
       "                        <td id=\"T_74f34_row7_col7\" class=\"data row7 col7\" >0.004475</td>\n",
       "                        <td id=\"T_74f34_row7_col8\" class=\"data row7 col8\" >0.001143</td>\n",
       "                        <td id=\"T_74f34_row7_col9\" class=\"data row7 col9\" >0.004312</td>\n",
       "            </tr>\n",
       "            <tr>\n",
       "                        <th id=\"T_74f34_level0_row8\" class=\"row_heading level0 row8\" >ACAD</th>\n",
       "                        <td id=\"T_74f34_row8_col0\" class=\"data row8 col0\" >0.002233</td>\n",
       "                        <td id=\"T_74f34_row8_col1\" class=\"data row8 col1\" >0.001175</td>\n",
       "                        <td id=\"T_74f34_row8_col2\" class=\"data row8 col2\" >-0.000136</td>\n",
       "                        <td id=\"T_74f34_row8_col3\" class=\"data row8 col3\" >0.001802</td>\n",
       "                        <td id=\"T_74f34_row8_col4\" class=\"data row8 col4\" >0.004424</td>\n",
       "                        <td id=\"T_74f34_row8_col5\" class=\"data row8 col5\" >0.001544</td>\n",
       "                        <td id=\"T_74f34_row8_col6\" class=\"data row8 col6\" >0.004292</td>\n",
       "                        <td id=\"T_74f34_row8_col7\" class=\"data row8 col7\" >0.001143</td>\n",
       "                        <td id=\"T_74f34_row8_col8\" class=\"data row8 col8\" >0.030032</td>\n",
       "                        <td id=\"T_74f34_row8_col9\" class=\"data row8 col9\" >0.004049</td>\n",
       "            </tr>\n",
       "            <tr>\n",
       "                        <th id=\"T_74f34_level0_row9\" class=\"row_heading level0 row9\" >IBOC</th>\n",
       "                        <td id=\"T_74f34_row9_col0\" class=\"data row9 col0\" >0.006093</td>\n",
       "                        <td id=\"T_74f34_row9_col1\" class=\"data row9 col1\" >0.003762</td>\n",
       "                        <td id=\"T_74f34_row9_col2\" class=\"data row9 col2\" >0.001683</td>\n",
       "                        <td id=\"T_74f34_row9_col3\" class=\"data row9 col3\" >0.002542</td>\n",
       "                        <td id=\"T_74f34_row9_col4\" class=\"data row9 col4\" >0.004605</td>\n",
       "                        <td id=\"T_74f34_row9_col5\" class=\"data row9 col5\" >0.004392</td>\n",
       "                        <td id=\"T_74f34_row9_col6\" class=\"data row9 col6\" >0.005575</td>\n",
       "                        <td id=\"T_74f34_row9_col7\" class=\"data row9 col7\" >0.004312</td>\n",
       "                        <td id=\"T_74f34_row9_col8\" class=\"data row9 col8\" >0.004049</td>\n",
       "                        <td id=\"T_74f34_row9_col9\" class=\"data row9 col9\" >0.007116</td>\n",
       "            </tr>\n",
       "    </tbody></table>"
      ],
      "text/plain": [
       "<pandas.io.formats.style.Styler at 0x20220ad5580>"
      ]
     },
     "execution_count": 216,
     "metadata": {},
     "output_type": "execute_result"
    }
   ],
   "source": [
    "# Show the variance-covariance for the assets in this example\n",
    "cov.style.background_gradient(cmap='coolwarm')"
   ]
  },
  {
   "cell_type": "markdown",
   "metadata": {},
   "source": [
    "The diagonal for this matrix is the variance for each stock, and the covariances are the other cells. "
   ]
  },
  {
   "cell_type": "code",
   "execution_count": 217,
   "metadata": {},
   "outputs": [],
   "source": [
    "precision_matrix = pd.DataFrame(inv(cov), index=sampleindex, columns=sampleindex)"
   ]
  },
  {
   "cell_type": "code",
   "execution_count": 218,
   "metadata": {
    "ExecuteTime": {
     "end_time": "2021-04-15T19:51:05.203899Z",
     "start_time": "2021-04-15T19:51:05.197646Z"
    }
   },
   "outputs": [],
   "source": [
    "CorrK = precision_matrix.dot(SampleMean)\n",
    "# sample.mean() is the mean vector"
   ]
  },
  {
   "cell_type": "markdown",
   "metadata": {},
   "source": [
    "Here we can see the kelly allocations:"
   ]
  },
  {
   "cell_type": "code",
   "execution_count": 219,
   "metadata": {},
   "outputs": [
    {
     "name": "stdout",
     "output_type": "stream",
     "text": [
      "symbol\n",
      "MCS    -0.518570\n",
      "AEO     1.396435\n",
      "YORW    2.534714\n",
      "UPLD    1.178887\n",
      "FBC     2.222802\n",
      "WWW    -1.897825\n",
      "VBTX    1.508855\n",
      "GABC    1.778379\n",
      "ACAD    0.060144\n",
      "IBOC   -2.597922\n",
      "dtype: float64\n"
     ]
    }
   ],
   "source": [
    "print(CorrK)"
   ]
  },
  {
   "cell_type": "markdown",
   "metadata": {},
   "source": [
    "But, the solution is not constrained. This is important for the model to work correctly, since leverage is incredibly risk and unrealistic. Running a portfolio without these conditions will not work. To overcome this situation, consider the maximization of the expected growth rate $g^*$. Notationally this corresponds to:"
   ]
  },
  {
   "cell_type": "markdown",
   "metadata": {},
   "source": [
    "$ g^* = argmax_{F}[r + F^T(M-R)- 0.5(F^T \\hat{\\Sigma}F)]$ subject to: $\\sum\\limits_{i=1}^{n} f_{i} \\le 1 ; 0 \\le f_{i} \\le 1$"
   ]
  },
  {
   "cell_type": "markdown",
   "metadata": {},
   "source": [
    "To solve this, you need to compute a quadratic maximization problem. This is done here:"
   ]
  },
  {
   "cell_type": "code",
   "execution_count": 220,
   "metadata": {},
   "outputs": [],
   "source": [
    "# pip install gurobipy\n",
    "import gurobipy as gp\n",
    "from gurobipy import GRB"
   ]
  },
  {
   "cell_type": "code",
   "execution_count": 221,
   "metadata": {},
   "outputs": [],
   "source": [
    "def maxCK(mean,cov):\n",
    "    ''' Maxamize the Kelly Fraction for correlated assets. Inputs are a mean vector and a covariance matrix.\n",
    "        Note that covariance matrix must not be singular. '''\n",
    "\n",
    "    m = gp.Model(\"opt1\") # Create the model\n",
    "\n",
    "    nstocks = len(mean)\n",
    "\n",
    "    t = mean.to_numpy()\n",
    "    c = cov.to_numpy()\n",
    "\n",
    "    x = m.addMVar(shape=nstocks, lb=0.0, name=\"stock\") # create weight vector\n",
    "\n",
    "    m.Params.Threads=0.25 #reduce computer load\n",
    "    m.Params.LogToConsole=0\n",
    "\n",
    "    # Set the bounds for the weights to be above 0 and less than 1\n",
    "    m.addConstr(x>=0, name='above 0') \n",
    "    m.addConstr(x<=1, name='below 1')\n",
    "\n",
    "    # Make sure weights sum to 1 (fully invested portfolio)\n",
    "    m.addConstr(x.sum()==1, name = 'equals 1')\n",
    "\n",
    "    # This equation \n",
    "    m.setObjective (x@t - 0.5*(x@c@x), GRB.MAXIMIZE)\n",
    "    m.optimize()\n",
    "    pos = np.array([m.getVars()[i].x for i in range(len(m.getVars()))])\n",
    "    return pos"
   ]
  },
  {
   "cell_type": "code",
   "execution_count": 222,
   "metadata": {},
   "outputs": [],
   "source": [
    "def CorK(x):\n",
    "    ''' Create a DataFrame for correlated Kelly allocations. Uses quadratic program created from before (maxCK).'''\n",
    "    test= x.reset_index(drop=True)\n",
    "    list = []\n",
    "    idx = x.columns\n",
    "    means = x.rolling(12).mean() # Create rolling means for the assets\n",
    "    for i, r in test.iloc[12:].iterrows():\n",
    "        m = means.iloc[i]\n",
    "        cov = x.iloc[i-12:i].cov() # Create the covariance matrix\n",
    "        k = maxCK(m,cov) # Calculate the optimal allocations\n",
    "        k = pd.Series(k, index = idx)\n",
    "        list.append(k)\n",
    "    return pd.DataFrame(list)      \n"
   ]
  },
  {
   "cell_type": "code",
   "execution_count": 223,
   "metadata": {},
   "outputs": [],
   "source": [
    "def UnCorK(x):\n",
    "    test= x.reset_index(drop=True)\n",
    "    list = []\n",
    "    means = test.rolling(12).mean()\n",
    "    vars = test.rolling(12).var()\n",
    "    for i, r in test.iloc[12:].iterrows():\n",
    "        var = vars.iloc[i]\n",
    "        mean = means.iloc[i]\n",
    "        k = mean/var\n",
    "        list.append(k)\n",
    "    x = pd.DataFrame(list)\n",
    "    x.reset_index(drop=True, inplace=True)\n",
    "    return(x)\n"
   ]
  },
  {
   "cell_type": "code",
   "execution_count": 224,
   "metadata": {},
   "outputs": [],
   "source": [
    "# computationally taxing WARNING\n",
    "corrkellys = CorK(sample) "
   ]
  },
  {
   "cell_type": "code",
   "execution_count": 225,
   "metadata": {},
   "outputs": [],
   "source": [
    "# Put constraints onto the uncorrelated case\n",
    "uncorrkellys = UnCorK(sample)\n",
    "uncorrkellys[uncorrkellys<0]=0 #normalization \n",
    "uncorrkellys = uncorrkellys.div(uncorrkellys.sum(axis=1), axis=0)    "
   ]
  },
  {
   "cell_type": "code",
   "execution_count": 226,
   "metadata": {},
   "outputs": [],
   "source": [
    "def kellyport(allocations,returns,v):\n",
    "    # Computes the kelly portfolio (assuming constrained to sum to 1 and positive only)\n",
    "    list = []\n",
    "    for i, r in allocations.iloc[1:].iterrows():\n",
    "        prev = allocations.iloc[i-1]\n",
    "        change = prev * returns.iloc[i]\n",
    "        s = change.sum() + 1\n",
    "        if v<0:\n",
    "            print('BUST')\n",
    "            break\n",
    "        v = s*v\n",
    "        list.append(v)\n",
    "    return pd.DataFrame(list)"
   ]
  },
  {
   "cell_type": "code",
   "execution_count": 227,
   "metadata": {},
   "outputs": [],
   "source": [
    "def eqport(returns,v):\n",
    "    # Computes a portfolio  for an equal-weighted portfolio.this is the benchmark case. \n",
    "    list = []\n",
    "    l = len(returns.columns)\n",
    "    for i, r in returns.iloc[1:].iterrows():\n",
    "        prev = np.full(l,1/l)\n",
    "        change = prev * returns.iloc[i]\n",
    "        s = change.sum() + 1\n",
    "        if v<0:\n",
    "            print('BUST')\n",
    "            break\n",
    "        v = s*v\n",
    "        list.append(v)\n",
    "    return pd.DataFrame(list)"
   ]
  },
  {
   "cell_type": "code",
   "execution_count": 228,
   "metadata": {},
   "outputs": [],
   "source": [
    "retper = sample.iloc[12:].reset_index(drop=True)"
   ]
  },
  {
   "cell_type": "code",
   "execution_count": 229,
   "metadata": {},
   "outputs": [],
   "source": [
    "eq = eqport(retper,10000)"
   ]
  },
  {
   "cell_type": "code",
   "execution_count": 230,
   "metadata": {},
   "outputs": [],
   "source": [
    "uK = kellyport(uncorrkellys,retper,10000)\n",
    "corK = kellyport(corrkellys,retper,10000)"
   ]
  },
  {
   "cell_type": "code",
   "execution_count": 231,
   "metadata": {},
   "outputs": [],
   "source": [
    "# Set index\n",
    "tt = sample.iloc[13:].index"
   ]
  },
  {
   "cell_type": "code",
   "execution_count": 232,
   "metadata": {},
   "outputs": [],
   "source": [
    "uK.set_index(tt, inplace=True)\n",
    "corK.set_index(tt, inplace=True)\n",
    "eq.set_index(tt, inplace=True)"
   ]
  },
  {
   "cell_type": "code",
   "execution_count": 233,
   "metadata": {},
   "outputs": [
    {
     "name": "stdout",
     "output_type": "stream",
     "text": [
      "0    0.011625\n",
      "dtype: float64\n",
      "0    0.031206\n",
      "dtype: float64\n",
      "0    0.015327\n",
      "dtype: float64\n"
     ]
    }
   ],
   "source": [
    "print(uK.pct_change().mean())\n",
    "print(corK.pct_change().mean())\n",
    "print(eq.pct_change().mean())"
   ]
  },
  {
   "cell_type": "markdown",
   "metadata": {},
   "source": [
    "So in terms of average growth rate, the equal weighted performs the worst, then comes the uncorrelated kelly, and the best performer is the correlated kelly implementation."
   ]
  },
  {
   "cell_type": "code",
   "execution_count": 234,
   "metadata": {},
   "outputs": [
    {
     "data": {
      "image/png": "[encoded data removed]",
      "text/plain": [
       "<Figure size 720x360 with 1 Axes>"
      ]
     },
     "metadata": {
      "needs_background": "light"
     },
     "output_type": "display_data"
    }
   ],
   "source": [
    "fig, ax = plt.subplots(figsize=(10,5))\n",
    "ax.set_xlabel('Date')\n",
    "ax.set_ylabel('Portfolio Value')\n",
    "plt.plot(uK, label='Uncorrelated kelly')\n",
    "plt.plot(corK, label='Correlated kelly')\n",
    "plt.plot(eq, label = 'Equal Weighted')\n",
    "ax.set_title('Kelly Portfolio Values')\n",
    "ax.legend();"
   ]
  },
  {
   "cell_type": "code",
   "execution_count": 238,
   "metadata": {},
   "outputs": [
    {
     "data": {
      "image/png": "[encoded data removed]",
      "text/plain": [
       "<Figure size 720x360 with 1 Axes>"
      ]
     },
     "metadata": {
      "needs_background": "light"
     },
     "output_type": "display_data"
    }
   ],
   "source": [
    "fig, ax = plt.subplots(figsize=(10,5))\n",
    "ax.set_title('Log Wealth Portfolio Values')\n",
    "ax.set_xlabel('Date')\n",
    "ax.set_ylabel('Log Wealth')\n",
    "plt.plot(np.log(uK), label='Uncorrelated Kelly')\n",
    "plt.plot(np.log(corK), label='Correlated Kelly')\n",
    "plt.plot(np.log(eq), label = 'Equal Weighted')\n",
    "ax.legend();"
   ]
  },
  {
   "cell_type": "code",
   "execution_count": 239,
   "metadata": {},
   "outputs": [
    {
     "data": {
      "image/png": "[encoded data removed]",
      "text/plain": [
       "<Figure size 720x360 with 1 Axes>"
      ]
     },
     "metadata": {
      "needs_background": "light"
     },
     "output_type": "display_data"
    }
   ],
   "source": [
    "fig, ax = plt.subplots(figsize=(10,5))\n",
    "ax.set_title('Pct. Change Portfolio Values')\n",
    "ax.set_xlabel('Date')\n",
    "ax.set_ylabel('Pct. Change')\n",
    "plt.plot(uK.pct_change(), label='Uncorrelated Kelly')\n",
    "plt.plot(corK.pct_change(), label='Correlated Kelly')\n",
    "plt.plot(eq.pct_change(), label = 'Equal Weighted')\n",
    "ax.legend();"
   ]
  },
  {
   "cell_type": "markdown",
   "metadata": {},
   "source": [
    "We can see that although the growth rate on average is greater for the kelly implemented portfolios, there are some issues with large drawdowns and the overall performance is only slightly better than the benchmark. There is also clear evidence that the correlated case is needed to ensure better performance. "
   ]
  },
  {
   "cell_type": "markdown",
   "metadata": {},
   "source": [
    "## Using the ML Predictions in Conjunction with Kelly Principle"
   ]
  },
  {
   "cell_type": "code",
   "execution_count": 67,
   "metadata": {},
   "outputs": [],
   "source": [
    "lookahead = 21"
   ]
  },
  {
   "cell_type": "code",
   "execution_count": 68,
   "metadata": {},
   "outputs": [],
   "source": [
    "def PredCorK(pred,ret):\n",
    "    ''' Create a DataFrame for correlated Kelly allocations. Uses quadratic program created from before (maxCK).'''\n",
    "    test= pred.reset_index(drop=True)\n",
    "    window = ret.reset_index(drop=True)\n",
    "    list = []\n",
    "    idx = pred.columns\n",
    "    for i, r in test.iterrows():\n",
    "        m = test.iloc[i]\n",
    "        cov = ret.iloc[67+i:70+i].cov() # Create the covariance matrix\n",
    "        k = maxCK(m,cov) # Calculate the optimal allocations\n",
    "        k = pd.Series(k, index = idx)\n",
    "        list.append(k)\n",
    "    return pd.DataFrame(list)      "
   ]
  },
  {
   "cell_type": "code",
   "execution_count": 69,
   "metadata": {},
   "outputs": [],
   "source": [
    "predictions = pd.read_hdf('data/predictions.h5', f'lgb/test/{lookahead:02}').drop('y_test', axis=1)\n",
    "predictions = (predictions.loc[~predictions.index.duplicated()]     \n",
    "                   .iloc[:, :5]\n",
    "                   .mean(1)\n",
    "                   .sort_index()\n",
    "                   .dropna())\n",
    "predictions.index.names = ['ticker', 'date']\n",
    "predictions = predictions.unstack('ticker').resample('M').last().dropna(how='all').dropna(axis=1)"
   ]
  },
  {
   "cell_type": "code",
   "execution_count": 70,
   "metadata": {},
   "outputs": [],
   "source": [
    "p = predictions.sample(20,axis=1)\n",
    "stocks = p.columns.tolist() # Creates list of tickers from the top and bottom predictions\n",
    "ret = monthly_returns[stocks] # In order to compute the covariance matrix, get the same dates and isolate the data to the choosen tickers"
   ]
  },
  {
   "cell_type": "markdown",
   "metadata": {},
   "source": [
    "## Run the Portfolios for Different Samples"
   ]
  },
  {
   "cell_type": "code",
   "execution_count": 85,
   "metadata": {},
   "outputs": [],
   "source": [
    "for x in range(100):\n",
    "    p = predictions.sample(20,axis=1)\n",
    "    stocks = p.columns.tolist()\n",
    "    returns = monthly_returns[stocks]\n",
    "    PCK = PredCorK(p,returns)\n",
    "    pt = CorK(returns.iloc[58:])\n",
    "    matchedRet = returns.iloc[70:].reset_index(drop=True)\n",
    "    MachineLearning = kellyport(PCK,matchedRet,10000)\n",
    "    CorrKelly = kellyport(pt,matchedRet,10000)\n",
    "    EqualWeighted = eqport(matchedRet, 10000)\n",
    "    ii = ret.iloc[71:].index\n",
    "    MachineLearning.set_index(ii, inplace=True)\n",
    "    EqualWeighted.set_index(ii, inplace=True)\n",
    "    CorrKelly.set_index(ii, inplace=True)\n",
    "    EqualWeighted.rename(columns={0:f'EW{x}'},inplace=True)\n",
    "    MachineLearning.rename(columns={0:f'ML{x}'},inplace=True)\n",
    "    CorrKelly.rename(columns={0:f'CK{x}'},inplace=True)\n",
    "    if x==0:\n",
    "        EW = EqualWeighted\n",
    "        ML = MachineLearning\n",
    "        CK = CorrKelly\n",
    "    else:\n",
    "        EW = EW.join(EqualWeighted)\n",
    "        ML = ML.join(MachineLearning)\n",
    "        CK = CK.join(CorrKelly)"
   ]
  },
  {
   "cell_type": "code",
   "execution_count": 86,
   "metadata": {},
   "outputs": [],
   "source": [
    "# Exports DataFrames to Excel\n",
    "with pd.ExcelWriter('PortfolioFinal.xlsx') as writer:\n",
    "    EW.to_excel(writer, sheet_name='Equal Weighted')\n",
    "    ML.to_excel(writer, sheet_name='Machine Learning Mean')\n",
    "    CK.to_excel(writer, 'Correlated Kelly')"
   ]
  },
  {
   "cell_type": "code",
   "execution_count": 103,
   "metadata": {},
   "outputs": [
    {
     "name": "stdout",
     "output_type": "stream",
     "text": [
      "Equal Weighted: 2.238%\n",
      "Correlated Kelly: 3.136%\n",
      "Machine Learning: 6.579%\n"
     ]
    }
   ],
   "source": [
    "# Show the average monthly growth rates for the different techniques\n",
    "print(\"Equal Weighted: \" + \"{:.3%}\".format(EW.pct_change().mean().mean()))\n",
    "print(\"Correlated Kelly: \" + \"{:.3%}\".format(CK.pct_change().mean().mean()))\n",
    "print(\"Machine Learning: \" + \"{:.3%}\".format(ML.pct_change().mean().mean()))"
   ]
  },
  {
   "cell_type": "code",
   "execution_count": 88,
   "metadata": {},
   "outputs": [
    {
     "data": {
      "image/png": "[encoded data removed]",
      "text/plain": [
       "<Figure size 720x360 with 1 Axes>"
      ]
     },
     "metadata": {
      "needs_background": "light"
     },
     "output_type": "display_data"
    }
   ],
   "source": [
    "fig, ax = plt.subplots(figsize=(10,5))\n",
    "ax.set_title('Portfolio Values')\n",
    "ax.set_xlabel('Date')\n",
    "ax.set_ylabel('Average Portfolio Values')\n",
    "plt.plot(ML.mean(axis=1), label='Machine Learning Kelly')\n",
    "plt.plot(CK.mean(axis=1), label='Correlated Kelly')\n",
    "plt.plot(EW.mean(axis=1), label = 'Equal Weighted')\n",
    "ax.legend();"
   ]
  },
  {
   "cell_type": "markdown",
   "metadata": {},
   "source": [
    "So, the results show that the kelly formula does in fact maximize the average growth. But, the formula tends to invest heavily in a single stock, causing larger drawdowns. This can be seen by the fact that the average performance of a kelly implementation ends up almost even(in terms of overall value) with the equal weighted portfolio. Also, the performance in drawdown periods is less than ideal. \n",
    "This result directly relates with the general discorse on the implementation of the Kelly Principle pointing to partial kelly systems (where things like the half kelly come in), espicially when you are using longer time frames like the monthly system tested in this example. It also points to implementing a system that provides greater position diversification systems. An interesting implementation would be adding some sort of risk parity system in conjunction with kelly position sizing, for example.  "
   ]
  },
  {
   "cell_type": "markdown",
   "metadata": {},
   "source": [
    "The final addition of using a machine learning prediction for the mean rather than a rolling mean created much more interesting results. It faced the same issues of concentrated position sizing, but the drawdowns were less and the overall performance was almost double the equal weighted samples. "
   ]
  }
 ],
 "metadata": {
  "kernelspec": {
   "display_name": "Python 3",
   "language": "python",
   "name": "python3"
  },
  "language_info": {
   "codemirror_mode": {
    "name": "ipython",
    "version": 3
   },
   "file_extension": ".py",
   "mimetype": "text/x-python",
   "name": "python",
   "nbconvert_exporter": "python",
   "pygments_lexer": "ipython3",
   "version": "3.8.8"
  },
  "toc": {
   "base_numbering": 1,
   "nav_menu": {},
   "number_sections": true,
   "sideBar": true,
   "skip_h1_title": true,
   "title_cell": "Table of Contents",
   "title_sidebar": "Contents",
   "toc_cell": false,
   "toc_position": {},
   "toc_section_display": true,
   "toc_window_display": true
  }
 },
 "nbformat": 4,
 "nbformat_minor": 2
}
